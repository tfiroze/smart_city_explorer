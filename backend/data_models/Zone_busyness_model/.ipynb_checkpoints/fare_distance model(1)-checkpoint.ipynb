{
 "cells": [
  {
   "cell_type": "markdown",
   "id": "a92ff322",
   "metadata": {},
   "source": [
    "load model"
   ]
  },
  {
   "cell_type": "code",
   "execution_count": 1,
   "id": "8f779e70",
   "metadata": {},
   "outputs": [
    {
     "name": "stdout",
     "output_type": "stream",
     "text": [
      "Fare predictions: [10.84505174 10.20286437 15.118387  ]\n",
      "Distance predictions: [1.4689379 1.3689122 2.5435712]\n"
     ]
    }
   ],
   "source": [
    "import pandas as pd\n",
    "import joblib\n",
    "import xgboost as xgb\n",
    "\n",
    "# Load the models from a file\n",
    "fare_model = joblib.load('best_fare_model.pkl')\n",
    "distance_model = xgb.Booster()\n",
    "distance_model.load_model('distance_model.model')\n",
    "\n",
    "# Assume we have some new data             (add data here)\n",
    "new_data = pd.DataFrame({\n",
    "    'pickup_hour': [10, 15, 20],\n",
    "    'PULocationID': [161, 237, 43],\n",
    "    'DOLocationID': [234, 161, 68]\n",
    "})                                      #(change the new_data)\n",
    "\n",
    "# new_data = pd.DataFrame({\n",
    "#     'pickup_hour': [13],  # 1 PM\n",
    "#     'PULocationID': [132],  # Some location ID\n",
    "#     'DOLocationID': [234]  # Some other location ID\n",
    "# })\n",
    "\n",
    "\n",
    "\n",
    "\n",
    "\n",
    "# Make predictions\n",
    "fare_predictions = fare_model.predict(new_data)\n",
    "distance_predictions = distance_model.predict(xgb.DMatrix(new_data))\n",
    "\n",
    "# Print predictions\n",
    "print('Fare predictions:', fare_predictions)\n",
    "print('Distance predictions:', distance_predictions)\n",
    "\n"
   ]
  },
  {
   "cell_type": "code",
   "execution_count": 2,
   "id": "03e95729",
   "metadata": {},
   "outputs": [
    {
     "name": "stdout",
     "output_type": "stream",
     "text": [
      "1.3.0\n"
     ]
    }
   ],
   "source": [
    "import sklearn\n",
    "print(sklearn.__version__)"
   ]
  },
  {
   "cell_type": "markdown",
   "id": "f52c9341",
   "metadata": {},
   "source": [
    "model test"
   ]
  },
  {
   "cell_type": "code",
   "execution_count": 2,
   "id": "0f8a2e64",
   "metadata": {},
   "outputs": [],
   "source": [
    "import pandas as pd\n",
    "from sklearn.model_selection import train_test_split\n",
    "from sklearn.ensemble import RandomForestRegressor\n",
    "from sklearn.metrics import mean_squared_error\n"
   ]
  },
  {
   "cell_type": "markdown",
   "id": "b81df848",
   "metadata": {},
   "source": [
    "normal test"
   ]
  },
  {
   "cell_type": "code",
   "execution_count": 16,
   "id": "03469491",
   "metadata": {},
   "outputs": [
    {
     "name": "stdout",
     "output_type": "stream",
     "text": [
      "Fare MSE: 16786.516379147335\n",
      "Distance MSE: 2120.552255009547\n"
     ]
    }
   ],
   "source": [
    "from sklearn.model_selection import train_test_split\n",
    "\n",
    "# Load the data\n",
    "df = pd.read_csv('yellow_manhattan.csv')\n",
    "\n",
    "# Preprocess the data\n",
    "df['tpep_pickup_datetime'] = pd.to_datetime(df['tpep_pickup_datetime'])\n",
    "df['pickup_hour'] = df['tpep_pickup_datetime'].dt.hour\n",
    "\n",
    "# Define features and target\n",
    "features = df[['pickup_hour', 'PULocationID', 'DOLocationID']]\n",
    "target_fare = df['real_total_amount']\n",
    "target_distance = df['trip_distance']\n",
    "\n",
    "# Split the data into training and test sets (90% training, 10% test)\n",
    "features_train, features_test, target_fare_train, target_fare_test = train_test_split(features, target_fare, test_size=0.1, random_state=42)\n",
    "_, _, target_distance_train, target_distance_test = train_test_split(features, target_distance, test_size=0.1, random_state=42)\n",
    "\n",
    "# Load the models\n",
    "fare_model = joblib.load('fare_model.pkl')\n",
    "distance_model = joblib.load('distance_model.pkl')\n",
    "\n",
    "# Make predictions\n",
    "fare_predictions = fare_model.predict(features_test)\n",
    "distance_predictions = distance_model.predict(features_test)\n",
    "\n",
    "# Calculate MSE\n",
    "fare_mse = mean_squared_error(target_fare_test, fare_predictions)\n",
    "distance_mse = mean_squared_error(target_distance_test, distance_predictions)\n",
    "\n",
    "print('Fare MSE:', fare_mse)\n",
    "print('Distance MSE:', distance_mse)\n"
   ]
  },
  {
   "cell_type": "markdown",
   "id": "646ab523",
   "metadata": {},
   "source": [
    "# taxi fare"
   ]
  },
  {
   "cell_type": "code",
   "execution_count": 6,
   "id": "9ac0e6e4",
   "metadata": {},
   "outputs": [
    {
     "name": "stdout",
     "output_type": "stream",
     "text": [
      "Fitting 5 folds for each of 4 candidates, totalling 20 fits\n",
      "[CV] END max_depth=20, min_samples_leaf=1, min_samples_split=10, n_estimators=50; total time=  50.5s\n",
      "[CV] END max_depth=20, min_samples_leaf=1, min_samples_split=10, n_estimators=50; total time=  54.1s\n",
      "[CV] END max_depth=20, min_samples_leaf=1, min_samples_split=10, n_estimators=50; total time=  53.8s\n",
      "[CV] END max_depth=20, min_samples_leaf=1, min_samples_split=10, n_estimators=50; total time=  53.2s\n",
      "[CV] END max_depth=20, min_samples_leaf=1, min_samples_split=10, n_estimators=50; total time=  52.9s\n",
      "[CV] END max_depth=None, min_samples_leaf=2, min_samples_split=5, n_estimators=200; total time= 4.1min\n",
      "[CV] END max_depth=None, min_samples_leaf=2, min_samples_split=5, n_estimators=200; total time= 5.1min\n",
      "[CV] END max_depth=None, min_samples_leaf=2, min_samples_split=5, n_estimators=200; total time= 4.6min\n",
      "[CV] END max_depth=None, min_samples_leaf=2, min_samples_split=5, n_estimators=200; total time= 4.1min\n",
      "[CV] END max_depth=None, min_samples_leaf=2, min_samples_split=5, n_estimators=200; total time= 4.1min\n",
      "[CV] END max_depth=10, min_samples_leaf=1, min_samples_split=10, n_estimators=100; total time= 1.4min\n",
      "[CV] END max_depth=10, min_samples_leaf=1, min_samples_split=10, n_estimators=100; total time= 1.5min\n",
      "[CV] END max_depth=10, min_samples_leaf=1, min_samples_split=10, n_estimators=100; total time= 1.4min\n",
      "[CV] END max_depth=10, min_samples_leaf=1, min_samples_split=10, n_estimators=100; total time= 1.2min\n",
      "[CV] END max_depth=10, min_samples_leaf=1, min_samples_split=10, n_estimators=100; total time= 1.3min\n",
      "[CV] END max_depth=10, min_samples_leaf=4, min_samples_split=2, n_estimators=50; total time=  36.7s\n",
      "[CV] END max_depth=10, min_samples_leaf=4, min_samples_split=2, n_estimators=50; total time=  37.5s\n",
      "[CV] END max_depth=10, min_samples_leaf=4, min_samples_split=2, n_estimators=50; total time=  37.4s\n",
      "[CV] END max_depth=10, min_samples_leaf=4, min_samples_split=2, n_estimators=50; total time=  36.6s\n",
      "[CV] END max_depth=10, min_samples_leaf=4, min_samples_split=2, n_estimators=50; total time=  37.2s\n",
      "Fare MSE: 2040.9453354215184\n"
     ]
    },
    {
     "data": {
      "text/plain": [
       "['best_fare_model.pkl']"
      ]
     },
     "execution_count": 6,
     "metadata": {},
     "output_type": "execute_result"
    }
   ],
   "source": [
    "import pandas as pd\n",
    "from sklearn.model_selection import train_test_split, RandomizedSearchCV\n",
    "from sklearn.ensemble import RandomForestRegressor\n",
    "from sklearn.metrics import mean_squared_error\n",
    "import joblib\n",
    "\n",
    "# Load the data\n",
    "df = pd.read_csv('yellow_taxi_data_Q2.csv')\n",
    "\n",
    "# Preprocess the data\n",
    "df['tpep_pickup_datetime'] = pd.to_datetime(df['tpep_pickup_datetime'])\n",
    "df['pickup_hour'] = df['tpep_pickup_datetime'].dt.hour\n",
    "\n",
    "# Define features and target\n",
    "features = df[['pickup_hour', 'PULocationID', 'DOLocationID']]\n",
    "target_fare = df['real_total_amount']\n",
    "\n",
    "# Split the data into training and test sets\n",
    "features_train, features_test, target_fare_train, target_fare_test = train_test_split(features, target_fare, test_size=0.2, random_state=42)\n",
    "\n",
    "# Define the model\n",
    "model = RandomForestRegressor(random_state=42)\n",
    "\n",
    "# Define the grid of hyperparameters to search\n",
    "hyperparameter_grid = {\n",
    "    'n_estimators': [10, 50, 100, 200],\n",
    "    'max_depth': [None, 5, 10, 20],\n",
    "    'min_samples_split': [2, 5, 10],\n",
    "    'min_samples_leaf': [1, 2, 4]\n",
    "}\n",
    "\n",
    "# Set up the randomized search\n",
    "# randomized_cv = RandomizedSearchCV(estimator=model, param_distributions=hyperparameter_grid, n_iter=10, cv=5, scoring='neg_mean_squared_error', n_jobs=-1, verbose=2, random_state=42)\n",
    "# Set up the randomized search with n_jobs=1\n",
    "# randomized_cv = RandomizedSearchCV(estimator=model, param_distributions=hyperparameter_grid, n_iter=10, cv=5, scoring='neg_mean_squared_error', n_jobs=1, verbose=2, random_state=42)\n",
    "\n",
    "# Set up the randomized search with n_jobs=1\n",
    "randomized_cv = RandomizedSearchCV(estimator=model, param_distributions=hyperparameter_grid, n_iter=4, cv=5, scoring='neg_mean_squared_error', n_jobs=1, verbose=2, random_state=42)\n",
    "\n",
    "\n",
    "# Fit the randomized search\n",
    "randomized_cv.fit(features_train, target_fare_train)\n",
    "\n",
    "# Get the best model\n",
    "best_model = randomized_cv.best_estimator_\n",
    "\n",
    "# Make predictions\n",
    "fare_predictions = best_model.predict(features_test)\n",
    "\n",
    "# Calculate MSE\n",
    "fare_mse = mean_squared_error(target_fare_test, fare_predictions)\n",
    "\n",
    "print('Fare MSE:', fare_mse)\n",
    "\n",
    "# Save the model to a file\n",
    "joblib.dump(best_model, 'best_fare_model.pkl')\n",
    "\n"
   ]
  },
  {
   "cell_type": "markdown",
   "id": "6577016f",
   "metadata": {},
   "source": [
    "xgboost"
   ]
  },
  {
   "cell_type": "code",
   "execution_count": 9,
   "id": "615886a5",
   "metadata": {},
   "outputs": [],
   "source": [
    "import xgboost as xgb\n",
    "from sklearn.metrics import mean_squared_error\n",
    "import pandas as pd\n",
    "import numpy as np\n",
    "\n",
    "# Load the data\n",
    "df = pd.read_csv('yellow_manhattan.csv')\n",
    "\n",
    "# Preprocess the data\n",
    "df['tpep_pickup_datetime'] = pd.to_datetime(df['tpep_pickup_datetime'])\n",
    "df['pickup_hour'] = df['tpep_pickup_datetime'].dt.hour\n",
    "\n",
    "# Define features and target\n",
    "features = df[['pickup_hour', 'PULocationID', 'DOLocationID']]\n",
    "target_fare = df['real_total_amount']\n",
    "target_distance = df['trip_distance']\n",
    "\n",
    "# Split the data into training and test sets\n",
    "features_train, features_test, target_fare_train, target_fare_test = train_test_split(features, target_fare, test_size=0.2, random_state=42)\n",
    "_, _, target_distance_train, target_distance_test = train_test_split(features, target_distance, test_size=0.2, random_state=42)\n",
    "\n",
    "# Create DMatrix for train and test\n",
    "dtrain_fare = xgb.DMatrix(features_train, label=target_fare_train)\n",
    "dtrain_distance = xgb.DMatrix(features_train, label=target_distance_train)\n",
    "dtest = xgb.DMatrix(features_test)\n",
    "\n",
    "# Define parameters\n",
    "param = {'max_depth': 10, 'eta': 0.3, 'objective': 'reg:squarederror'}\n",
    "\n",
    "# Train the models\n",
    "num_round = 10\n",
    "fare_model = xgb.train(param, dtrain_fare, num_round)\n",
    "distance_model = xgb.train(param, dtrain_distance, num_round)\n",
    "\n",
    "# Save the models\n",
    "# fare_model.save_model('fare_model.model')\n",
    "distance_model.save_model('distance_model.model')\n"
   ]
  },
  {
   "cell_type": "markdown",
   "id": "29738c97",
   "metadata": {},
   "source": [
    "xgboost  test"
   ]
  },
  {
   "cell_type": "code",
   "execution_count": 10,
   "id": "ff4053a2",
   "metadata": {},
   "outputs": [
    {
     "name": "stdout",
     "output_type": "stream",
     "text": [
      "Fare MSE: 14098.187742214215\n",
      "Distance MSE: 1248.6357850431907\n"
     ]
    }
   ],
   "source": [
    "# Load the models\n",
    "loaded_fare_model = xgb.Booster()\n",
    "loaded_fare_model.load_model('fare_model.model')\n",
    "\n",
    "loaded_distance_model = xgb.Booster()\n",
    "loaded_distance_model.load_model('distance_model.model')\n",
    "\n",
    "# Make predictions\n",
    "fare_predictions = loaded_fare_model.predict(dtest)\n",
    "distance_predictions = loaded_distance_model.predict(dtest)\n",
    "\n",
    "# Calculate MSE\n",
    "fare_mse = mean_squared_error(target_fare_test, fare_predictions)\n",
    "distance_mse = mean_squared_error(target_distance_test, distance_predictions)\n",
    "\n",
    "print('Fare MSE:', fare_mse)\n",
    "print('Distance MSE:', distance_mse)\n"
   ]
  },
  {
   "cell_type": "code",
   "execution_count": null,
   "id": "808bf271",
   "metadata": {},
   "outputs": [],
   "source": []
  },
  {
   "cell_type": "code",
   "execution_count": null,
   "id": "bfb69d0c",
   "metadata": {},
   "outputs": [],
   "source": []
  },
  {
   "cell_type": "code",
   "execution_count": null,
   "id": "c9ad9e4c",
   "metadata": {},
   "outputs": [],
   "source": []
  }
 ],
 "metadata": {
  "kernelspec": {
   "display_name": "Python [conda env:root] *",
   "language": "python",
   "name": "conda-root-py"
  },
  "language_info": {
   "codemirror_mode": {
    "name": "ipython",
    "version": 3
   },
   "file_extension": ".py",
   "mimetype": "text/x-python",
   "name": "python",
   "nbconvert_exporter": "python",
   "pygments_lexer": "ipython3",
   "version": "3.9.7"
  }
 },
 "nbformat": 4,
 "nbformat_minor": 5
}
