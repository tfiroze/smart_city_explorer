{
 "cells": [
  {
   "cell_type": "markdown",
   "id": "9d282b2d",
   "metadata": {},
   "source": [
    "# Load Data"
   ]
  },
  {
   "cell_type": "code",
   "execution_count": 120,
   "id": "9d16729c",
   "metadata": {},
   "outputs": [],
   "source": [
    "# import modules\n",
    "import pandas as pd\n",
    "import numpy as np\n",
    "import sqlalchemy as sqla\n",
    "import pickle\n",
    "from sqlalchemy import create_engine\n",
    "\n",
    "from sklearn.linear_model import LinearRegression\n",
    "from sklearn.metrics import mean_squared_error, mean_absolute_error, r2_score\n",
    "from sklearn.ensemble import RandomForestRegressor\n",
    "from xgboost import XGBRegressor\n",
    "from sklearn.model_selection import train_test_split\n",
    "from sklearn.model_selection import cross_val_score\n",
    "from sklearn import metrics\n",
    "\n",
    "import matplotlib.pyplot as plt\n",
    "import warnings\n",
    "warnings.filterwarnings(\"ignore\")\n",
    "\n",
    "import pymysql\n",
    "from sshtunnel import SSHTunnelForwarder\n",
    "from datetime import datetime, timedelta\n",
    "\n",
    "import spacy\n",
    "\n",
    "# Load pre-trained word embeddings (e.g., spaCy's medium English model)\n",
    "nlp = spacy.load(\"en_core_web_md\")\n",
    "\n",
    "\n",
    "from shapely.geometry import MultiPolygon, Polygon\n",
    "from shapely.ops import nearest_points\n",
    "import geopandas as gpd\n",
    "from shapely import wkt"
   ]
  },
  {
   "cell_type": "code",
   "execution_count": 121,
   "id": "bf165be8",
   "metadata": {},
   "outputs": [],
   "source": [
    "df_venue_static = pd.read_csv('venue_static.csv')\n",
    "df_venue_timings = pd.read_csv('venue_timings.csv')\n",
    "df_venue_merged = pd.read_csv('venue_merged.csv')\n"
   ]
  },
  {
   "cell_type": "code",
   "execution_count": 122,
   "id": "5810f8e8",
   "metadata": {},
   "outputs": [],
   "source": [
    "df_venue_static = df_venue_static[df_venue_static['venue_type'] != 'LIBRARY']\n",
    "df_venue_static.to_csv('venue_static.csv', index=False)\n"
   ]
  },
  {
   "cell_type": "code",
   "execution_count": 123,
   "id": "9ca397e2",
   "metadata": {},
   "outputs": [],
   "source": [
    "df_manhattan_zone = pd.read_csv('./manhattan_zones.csv')\n",
    "#df_manhattan_zone.head(50)\n"
   ]
  },
  {
   "cell_type": "markdown",
   "id": "4e84e1ef",
   "metadata": {},
   "source": [
    "# Manipulate Data"
   ]
  },
  {
   "cell_type": "markdown",
   "id": "7f471e79",
   "metadata": {},
   "source": [
    "## Split into Hour and Day of the week"
   ]
  },
  {
   "cell_type": "code",
   "execution_count": 124,
   "id": "c2b31d44",
   "metadata": {},
   "outputs": [],
   "source": [
    "df_venue_merged['merged_time'] = pd.to_datetime(df_venue_merged['merged_time'])\n",
    "\n",
    "# Add 'day_of_week' column (Monday as 0)\n",
    "df_venue_merged['day_of_week'] = df_venue_merged['merged_time'].dt.dayofweek\n",
    "\n",
    "# Add 'hour_integer' column\n",
    "df_venue_merged['hour_integer'] = df_venue_merged['merged_time'].dt.hour"
   ]
  },
  {
   "cell_type": "code",
   "execution_count": 125,
   "id": "3ab6ae57",
   "metadata": {
    "scrolled": true
   },
   "outputs": [],
   "source": [
    "#print(df_venue_merged.head(10))"
   ]
  },
  {
   "cell_type": "markdown",
   "id": "78812016",
   "metadata": {},
   "source": [
    "## Grouping Venue Types"
   ]
  },
  {
   "cell_type": "code",
   "execution_count": 126,
   "id": "e18f1e05",
   "metadata": {},
   "outputs": [],
   "source": [
    "venue_mapping = {\n",
    "    'PARK': 'Park',\n",
    "    'TOURIST_DESTINATION': 'Tourist Destination',\n",
    "    'MUSEUM': 'Cultural Heritage',\n",
    "    'HISTORICAL':'Cultural Heritage',\n",
    "    'SCENIC_POINT': 'Scenic Landmarks',\n",
    "    'BRIDGE': 'Scenic Landmarks',\n",
    "    'NATURE_RESERVE': 'Nature Attractions',\n",
    "    'ZOO': 'Nature Attractions',\n",
    "    'BOTANICAL_GARDEN': 'Nature Attractions',\n",
    "    'ARTS': 'Art',\n",
    "    'DESSERT':'Art',\n",
    "    'CHURCH': 'Religious',\n",
    "    'SYNAGOGUE':'Religious',\n",
    "    'VISITOR_CENTER': 'Tourist Destination',\n",
    "    'LIBRARY':'Library',\n",
    "    'SHOPPING_CENTER': 'Shopping Center',\n",
    "    'APPAREL':'Fashion Convenience',\n",
    "    'OTHER': 'Tourist Destination',\n",
    "    'SHOPPING': 'Fashion Convenience',\n",
    "    'CONVENIENCE_STORE':'Neighborhood Market',\n",
    "    'SUPERMARKET': 'Neighborhood Market',\n",
    "    'GROCERY':'Neighborhood Market',\n",
    "    'MARKET':'Neighborhood Market',\n",
    "    'GIFTS': 'Gifts & Souvenirs',\n",
    "    'SOUVENIR_SHOP':'Gifts & Souvenirs',\n",
    "    \n",
    "}\n",
    "\n",
    "df_venue_static['venue_mod_type'] = df_venue_static['venue_type'].replace(venue_mapping)"
   ]
  },
  {
   "cell_type": "code",
   "execution_count": 127,
   "id": "1d77b855",
   "metadata": {},
   "outputs": [],
   "source": [
    "venue_to_zone_dict = {}\n",
    "\n",
    "# Iterate through each row in the DataFrame\n",
    "for index, row in df_venue_static.iterrows():\n",
    "    venue_type = row['venue_mod_type']\n",
    "    zone = row['zone_id']\n",
    "    \n",
    "    # If the venue_type is already in the dictionary, append the zone to its list\n",
    "    if venue_type in venue_to_zone_dict:\n",
    "        venue_to_zone_dict[venue_type].append(zone)\n",
    "    # If the venue_type is not in the dictionary, create a new entry with the zone as a list\n",
    "    else:\n",
    "        venue_to_zone_dict[venue_type] = [zone]\n",
    "\n",
    "#print(venue_to_zone_dict)"
   ]
  },
  {
   "cell_type": "code",
   "execution_count": 128,
   "id": "202966d0",
   "metadata": {},
   "outputs": [],
   "source": [
    "#df_venue_static.head(50)"
   ]
  },
  {
   "cell_type": "markdown",
   "id": "cd513591",
   "metadata": {},
   "source": [
    "# Clearing Duplicates"
   ]
  },
  {
   "cell_type": "code",
   "execution_count": 129,
   "id": "956cabca",
   "metadata": {},
   "outputs": [],
   "source": [
    "# look for duplicates\n",
    "#print('Number of duplicate (excluding first) rows in the table is: ', df_venue_static.duplicated().sum())\n",
    "\n",
    "# use \"keep=False\" to mark all duplicates as true, including the original rows that were duplicated\n",
    "#print('Number of duplicate rows (including first) in the table is:', df_venue_static[df_venue_static.duplicated(keep=False)].shape[0])"
   ]
  },
  {
   "cell_type": "code",
   "execution_count": 130,
   "id": "51881083",
   "metadata": {},
   "outputs": [],
   "source": [
    "# look for duplicates\n",
    "#print('Number of duplicate (excluding first) rows in the table is: ', df_venue_timings.duplicated().sum())\n",
    "\n",
    "# use \"keep=False\" to mark all duplicates as true, including the original rows that were duplicated\n",
    "#print('Number of duplicate rows (including first) in the table is:', df_venue_timings[df_venue_timings.duplicated(subset=['venue_id', 'day', 'opening_time', 'closing_time'], keep='first')].shape[0])"
   ]
  },
  {
   "cell_type": "code",
   "execution_count": 131,
   "id": "82dee57d",
   "metadata": {},
   "outputs": [],
   "source": [
    "#print('Number of duplicate (excluding first) rows in the table is: ', df_venue_timings.drop_duplicates(subset=['venue_id', 'day', 'opening_time', 'closing_time'], inplace=True))\n",
    "#df_venue_timings"
   ]
  },
  {
   "cell_type": "markdown",
   "id": "f30a1268",
   "metadata": {},
   "source": [
    "# Grouping Zones"
   ]
  },
  {
   "cell_type": "code",
   "execution_count": 132,
   "id": "6651ea3f",
   "metadata": {},
   "outputs": [],
   "source": [
    "venue_zone_grouping = {\n",
    "    'Upper Manhattan': [128, 127, 243, 120, 244, 116, 42, 152, 41, 74, 75],\n",
    "    'Upper West Side': [166, 24, 151, 43, 238, 239, 143, 142],\n",
    "    'Upper East Side': [236,263, 262, 237, 141, 140 ],\n",
    "    'Chelsea/Greenwhich market':[246, 68, 186, 90, 100, 234, 158, 249, 113, 249],\n",
    "    'Lower Manhattan': [107, 224, 114, 211, 144, 148, 232, 231, 45, 13, 261, 209, 87, 88, 12 ],\n",
    "    'Midtown Manhattan': [50, 48, 230, 163, 161, 162, 229, 233, 164, 170, 137, 224, 107, 234]\n",
    "}\n"
   ]
  },
  {
   "cell_type": "code",
   "execution_count": 133,
   "id": "bc59c213",
   "metadata": {},
   "outputs": [],
   "source": [
    "# venue_zone_grouping dictionary\n",
    "venue_zone_grouping = {\n",
    "    'Upper Manhattan': [128, 127, 243, 120, 244, 116, 42, 152, 41, 74, 75],\n",
    "    'Upper West Side': [166, 24, 151, 43, 238, 239, 143, 142],\n",
    "    'Upper East Side': [236, 263, 262, 237, 141, 140],\n",
    "    'Chelsea/Greenwhich market': [246, 68, 186, 90, 100, 234, 158, 249, 113, 249],\n",
    "    'Lower Manhattan': [107, 224, 114, 211, 144, 148, 232, 231, 45, 13, 261, 209, 87, 88, 12],\n",
    "    'Midtown Manhattan': [50, 48, 230, 163, 161, 162, 229, 233, 164, 170, 137, 224, 107, 234],\n",
    "}\n",
    "\n",
    "# Function to map zone numbers to zone groups\n",
    "def map_zone_group(zone_number):\n",
    "    for zone_group, zone_numbers in venue_zone_grouping.items():\n",
    "        if zone_number in zone_numbers:\n",
    "            return zone_group\n",
    "    return 'Other'  # If zone number not found in the dictionary, assign 'Other'\n",
    "\n",
    "# Create the 'zone_group' column based on the mapping\n",
    "df_venue_static['zone_group'] = df_venue_static['zone_id'].apply(map_zone_group)\n",
    "\n",
    "#print(df_venue_static)\n"
   ]
  },
  {
   "cell_type": "code",
   "execution_count": 134,
   "id": "1b852085",
   "metadata": {},
   "outputs": [],
   "source": [
    "df_venue_static.to_csv('zone_Grouping.csv', index=False)"
   ]
  },
  {
   "cell_type": "markdown",
   "id": "7304da8b",
   "metadata": {},
   "source": [
    "# Extracting Only Attratcion Types and Ignoring Restaurants"
   ]
  },
  {
   "cell_type": "code",
   "execution_count": 184,
   "id": "d3f2309b",
   "metadata": {},
   "outputs": [],
   "source": [
    "unique_type_values = df_venue_static['venue_mod_type'].unique()\n",
    "#unique_type_values"
   ]
  },
  {
   "cell_type": "code",
   "execution_count": 185,
   "id": "ae74f663",
   "metadata": {},
   "outputs": [],
   "source": [
    "specific_venue_types = ['Nature Attractions', 'Shopping Center', 'Tourist Destination', 'Cultural Heritage', 'Neighborhood Market', 'Fashion Convenience',  'Scenic Landmarks', 'Art', 'Religious', 'Park', 'Gifts & Souvenirs']\n",
    "\n",
    "# Filter the DataFrame to only include rows with the specific venue types\n",
    "df_venue_static_att = df_venue_static[df_venue_static['venue_mod_type'].isin(specific_venue_types)]\n",
    "\n",
    "# Now 'filtered_df' contains only rows where the \"Attraction_Type\" is in the specified list\n",
    "#print(df_venue_static_att)"
   ]
  },
  {
   "cell_type": "code",
   "execution_count": 186,
   "id": "5def6015",
   "metadata": {},
   "outputs": [],
   "source": [
    "# Filter out the restaurant types\n",
    "restaurant_types = [venue for venue in unique_type_values if 'RESTAURANT' in venue]\n",
    "\n",
    "# Assuming you have a dataframe named 'df_venue' which has a column 'venue_type'\n",
    "# that matches the values in your unique_type_values array, you can filter it as follows:\n",
    "df_venue_restaurant = df_venue_static[df_venue_static['venue_type'].isin(restaurant_types)]\n",
    "\n",
    "#print(df_venue_restaurant)"
   ]
  },
  {
   "cell_type": "code",
   "execution_count": 187,
   "id": "d1507fd1",
   "metadata": {},
   "outputs": [],
   "source": [
    "unique_venue_types = df_venue_restaurant['venue_type'].unique()\n",
    "#print(unique_venue_types)\n"
   ]
  },
  {
   "cell_type": "code",
   "execution_count": 188,
   "id": "17bf8b6f",
   "metadata": {},
   "outputs": [],
   "source": [
    "unique_type_values_att = df_venue_static_att['venue_mod_type'].unique()\n",
    "#unique_type_values_att"
   ]
  },
  {
   "cell_type": "markdown",
   "id": "3bd3a574",
   "metadata": {},
   "source": [
    "# Actual Flow"
   ]
  },
  {
   "cell_type": "markdown",
   "id": "774716c2",
   "metadata": {},
   "source": [
    "### Input"
   ]
  },
  {
   "cell_type": "code",
   "execution_count": 189,
   "id": "6ab6a459",
   "metadata": {},
   "outputs": [],
   "source": [
    "# Function to get user input with constraints\n",
    "def get_user_input(prompt, max_entries, existing_entries=[]):\n",
    "    # Replace underscores with spaces for existing entries\n",
    "    existing_entries = [entry.replace('_', ' ') for entry in existing_entries]\n",
    "    \n",
    "    user_input_list = []\n",
    "    for i in range(max_entries):\n",
    "        entry = input(f\"{prompt} {i+1}/{max_entries} (Leave empty to stop entering): \").strip()\n",
    "        \n",
    "        # Modify for attractions\n",
    "        if prompt == \"Enter attraction\":\n",
    "            entry = entry.title()\n",
    "        \n",
    "        # Modify for restaurants\n",
    "        if prompt == \"Enter restaurant\":\n",
    "            entry = entry.upper().replace(' ', '_')\n",
    "        \n",
    "        while entry in existing_entries or entry in user_input_list:\n",
    "            entry = input(f\"Invalid! {prompt} {i+1}/{max_entries} already entered. Please re-enter or leave empty to stop: \").strip()\n",
    "            \n",
    "            # If attraction, capitalize\n",
    "            if prompt == \"Enter attraction\":\n",
    "                entry = entry.title()\n",
    "\n",
    "            # If restaurant, uppercase and replace spaces with underscores\n",
    "            if prompt == \"Enter restaurant\":\n",
    "                entry = entry.upper().replace(' ', '_')\n",
    "            \n",
    "        if entry == \"\":\n",
    "            break\n",
    "        user_input_list.append(entry)\n",
    "    return user_input_list\n",
    "\n",
    "# Get zones\n",
    "user_zone_input = get_user_input(\"Enter zone\", 2)\n",
    "\n",
    "# Get attractions\n",
    "user_input_attractions = get_user_input(\"Enter attraction\", 4)\n",
    "\n",
    "# Get restaurants\n",
    "user_input_restaurants = get_user_input(\"Enter restaurant\", 2)\n",
    "\n",
    "#print(\"Selected Zones:\", user_zone_input)\n",
    "#print(\"Selected Attractions:\", user_input_attractions)\n",
    "#print(\"Selected Restaurants:\", user_input_restaurants)\n"
   ]
  },
  {
   "cell_type": "code",
   "execution_count": 163,
   "id": "c91c9663",
   "metadata": {},
   "outputs": [],
   "source": [
    "if len(user_input_attractions) < 4:\n",
    "    x = 4 - len(user_input_attractions)\n",
    "    \n",
    "    updated_list = [num for num in unique_type_values_att if num not in user_input_attractions]\n",
    "    \n",
    "    # Always include either 'Park', 'Scenic Landmark', or 'Tourist Destination' if not in user's input\n",
    "    core_attractions = ['Park', 'Scenic Landmarks', 'Tourist Destination']\n",
    "    \n",
    "    # Find out which core attractions are not in the user's input\n",
    "    missing_core_attractions = [attraction for attraction in core_attractions if attraction not in user_input_attractions]\n",
    "    \n",
    "    # Compute similarities only for missing core attractions\n",
    "    core_similarities = []\n",
    "    user_input_tag_embedding = nlp(user_input_attractions[0]).vector\n",
    "\n",
    "    for tag in missing_core_attractions:\n",
    "        tag_embedding = nlp(tag).vector\n",
    "        similarity = user_input_tag_embedding.dot(tag_embedding) / (np.linalg.norm(user_input_tag_embedding) * np.linalg.norm(tag_embedding))\n",
    "        core_similarities.append(similarity)\n",
    "\n",
    "    # Add the most similar core attraction to user's input\n",
    "    if core_similarities:\n",
    "        most_similar_core_index = np.argmax(core_similarities)\n",
    "        user_input_attractions.append(missing_core_attractions[most_similar_core_index])\n",
    "        x -= 1  # Decrement x as we've added a core attraction\n",
    "        \n",
    "        # Ensure that this attraction won't be added again from updated_list\n",
    "        updated_list.remove(missing_core_attractions[most_similar_core_index])\n",
    "\n",
    "    # Now, for the remaining attractions (if any)\n",
    "    if x > 0:\n",
    "        other_similarities = []\n",
    "        \n",
    "        for tag in updated_list:\n",
    "            tag_embedding = nlp(tag).vector\n",
    "            similarity = user_input_tag_embedding.dot(tag_embedding) / (np.linalg.norm(user_input_tag_embedding) * np.linalg.norm(tag_embedding))\n",
    "            other_similarities.append(similarity)\n",
    "\n",
    "        sorted_indices = np.argsort(other_similarities)[::-1]  # Descending order\n",
    "        most_similar_tags = [updated_list[i] for i in sorted_indices]\n",
    "        slice_most_similar_tags = most_similar_tags[0:x]\n",
    "        user_input_attractions = user_input_attractions + slice_most_similar_tags\n"
   ]
  },
  {
   "cell_type": "code",
   "execution_count": 165,
   "id": "7324de14",
   "metadata": {},
   "outputs": [],
   "source": [
    "priority_table = pd.DataFrame({\n",
    "    'Attraction': ['Park', 'Tourist Destination', 'Cultural Heritage', 'Scenic Landmarks', 'Nature Attractions',\n",
    "                   'Religious', 'Art',  'Shopping Center', 'Fashion Convenience',\n",
    "                   'Neighborhood Market', 'Gifts & Souvenirs'],\n",
    "    'Opening_Time': ['9:00 AM', '9:00 AM', '11:00 AM', '9:00 AM', '10:00 AM', '11:00 AM', '10:00 AM', \n",
    "                     '10:00 AM', '10:00 AM', '10:00 AM', '10:00 AM'],\n",
    "    'Closing_Time': ['6:00 PM', '6:00 PM', '6:00 PM', '11:00 PM', '6:00 PM', '6:00 PM', '6:00 PM', \n",
    "                     '6:00 PM', '6:00 PM', '6:00 PM', '6:00 PM']\n",
    "})"
   ]
  },
  {
   "cell_type": "code",
   "execution_count": 190,
   "id": "b04f7a5e",
   "metadata": {},
   "outputs": [],
   "source": [
    "# Assuming the following structure for df_venue_static_att: ['venue_id', 'venue_mod_type']\n",
    "\n",
    "# 1. Get the venue_id for each venue_mod_type from df_venue_static_att\n",
    "venue_ids_per_type = df_venue_static_att.groupby('venue_type')['hash_ven_id'].apply(list).to_dict()\n",
    "\n",
    "# 2. Use the venue_id to filter entries in df_venue_timings\n",
    "hourly_counts = {}\n",
    "for hour in range(24):  # 24 hours\n",
    "    for venue_type, venue_ids in venue_ids_per_type.items():\n",
    "        mask = (df_venue_timings['venue_id'].isin(venue_ids)) & \\\n",
    "               (df_venue_timings['opening_time'] <= hour) & \\\n",
    "               (df_venue_timings['closing_time'] >= hour) & \\\n",
    "               (df_venue_timings['day'] == 6)  # Assuming 6 represents Sunday\n",
    "        count = len(df_venue_timings[mask])\n",
    "        if venue_type not in hourly_counts:\n",
    "            hourly_counts[venue_type] = {}\n",
    "        hourly_counts[venue_type][hour] = count\n",
    "\n",
    "# 3. Determine most common opening and closing times\n",
    "common_times = {}\n",
    "for venue_type, counts in hourly_counts.items():\n",
    "    open_hour = min(counts.keys())\n",
    "    close_hour = max(counts.keys())\n",
    "    common_times[venue_type] = {\n",
    "        'Opening_Time': f'{open_hour}:00 AM' if open_hour < 12 else f'{open_hour-12 if open_hour > 12 else 12}:00 PM',\n",
    "        'Closing_Time': f'{close_hour}:00 AM' if close_hour < 12 else f'{close_hour-12 if close_hour > 12 else 12}:00 PM'\n",
    "    }\n",
    "\n",
    "# 4. Update the priority table\n",
    "for index, row in priority_table.iterrows():\n",
    "    attraction = row['Attraction']\n",
    "    if attraction in common_times:\n",
    "        priority_table.at[index, 'Opening_Time'] = common_times[attraction]['Opening_Time']\n",
    "        priority_table.at[index, 'Closing_Time'] = common_times[attraction]['Closing_Time']\n",
    "\n",
    "#print(priority_table)\n"
   ]
  },
  {
   "cell_type": "code",
   "execution_count": 167,
   "id": "7b7ee326",
   "metadata": {},
   "outputs": [
    {
     "name": "stdout",
     "output_type": "stream",
     "text": [
      "Suggested Itinerary: {'Tourist Destination': '09:00 AM - 11:00 AM', 'Fashion Convenience': '11:00 AM - 01:00 PM', 'Nature Attractions': '03:00 PM - 05:00 PM', 'Shopping Center': '05:00 PM - 06:00 PM'}\n"
     ]
    }
   ],
   "source": [
    "import pandas as pd\n",
    "from datetime import datetime\n",
    "\n",
    "current_date = datetime.now().strftime('%Y-%m-%d')\n",
    "\n",
    "# Sort attractions based on their opening times\n",
    "priority_table['Opening_Timestamp'] = pd.to_datetime(priority_table['Opening_Time'])\n",
    "sorted_attractions = priority_table.set_index('Attraction').loc[user_input_attractions].sort_values('Opening_Timestamp').index.tolist()\n",
    "\n",
    "# Initialize the itinerary dictionary\n",
    "itinerary = {}\n",
    "\n",
    "# Set the day's starting and ending time\n",
    "start_of_day = pd.Timestamp(f\"{current_date} 9:00 AM\")\n",
    "lunch_start = pd.Timestamp(f\"{current_date} 1:00 PM\")\n",
    "lunch_end = pd.Timestamp(f\"{current_date} 3:00 PM\")\n",
    "dinner_start = pd.Timestamp(f\"{current_date} 7:00 PM\")\n",
    "dinner_end = pd.Timestamp(f\"{current_date} 9:00 PM\")\n",
    "end_of_day = pd.Timestamp(f\"{current_date} 9:00 PM\")\n",
    "current_time = start_of_day\n",
    "\n",
    "for attraction in sorted_attractions:\n",
    "    row = priority_table[priority_table['Attraction'] == attraction].iloc[0]\n",
    "    opening_time = pd.Timestamp(f\"{current_date} {row['Opening_Time']}\")\n",
    "    closing_time = pd.Timestamp(f\"{current_date} {row['Closing_Time']}\")\n",
    "\n",
    "    # Skip if the attraction is already closed or will not open today\n",
    "    if current_time > closing_time or current_time < opening_time:\n",
    "        continue\n",
    "\n",
    "    # If it's lunchtime, jump to after lunch.\n",
    "    if lunch_start <= current_time < lunch_end:\n",
    "        current_time = lunch_end\n",
    "    \n",
    "    # If it's dinnertime, jump to after dinner.\n",
    "    if dinner_start <= current_time < dinner_end:\n",
    "        current_time = dinner_end\n",
    "\n",
    "    # Set the current time to the opening time if it's earlier\n",
    "    if current_time < opening_time:\n",
    "        current_time = opening_time\n",
    "\n",
    "    # Calculate the visit duration (min of 2 hours or available time)\n",
    "    visit_duration = min(2, (closing_time - current_time).seconds / 3600)\n",
    "\n",
    "    # Add to the itinerary if within the day's limit\n",
    "    if current_time + pd.Timedelta(hours=visit_duration) <= end_of_day:\n",
    "        itinerary[attraction] = f\"{current_time.strftime('%I:%M %p')} - {(current_time + pd.Timedelta(hours=visit_duration)).strftime('%I:%M %p')}\"\n",
    "        current_time += pd.Timedelta(hours=visit_duration)  # No buffer added here\n",
    "    else:\n",
    "        break\n",
    "\n",
    "# Print the suggested itinerary\n",
    "print(\"Suggested Itinerary:\", itinerary)\n",
    "itinerary_timing = itinerary\n"
   ]
  },
  {
   "cell_type": "markdown",
   "id": "312aef93",
   "metadata": {},
   "source": [
    "## Zone grouping"
   ]
  },
  {
   "cell_type": "code",
   "execution_count": 168,
   "id": "47262a03",
   "metadata": {},
   "outputs": [],
   "source": [
    "zone_group = []\n",
    "for group in user_zone_input:\n",
    "    for zone in venue_zone_grouping[group]:\n",
    "        zone_group.append(zone)\n",
    "#zone_group"
   ]
  },
  {
   "cell_type": "code",
   "execution_count": 169,
   "id": "a367d3d1",
   "metadata": {},
   "outputs": [
    {
     "name": "stdout",
     "output_type": "stream",
     "text": [
      "{'Tourist Destination': [43, 170, 186, 161, 166, 144, 239, 230, 164, 246, 162, 50, 236], 'Fashion Convenience': [263, 236, 230, 237, 144, 141, 163, 114, 142, 164, 90, 48, 161, 232, 239], 'Nature Attractions': [43], 'Shopping Center': [74, 246, 234, 163, 162, 113, 142, 143]}\n"
     ]
    }
   ],
   "source": [
    "zone_type_dict = {}\n",
    "for venue_type in itinerary_timing:\n",
    "    matched_zones = df_venue_static_att[df_venue_static_att['venue_mod_type'] == venue_type]['zone_id'].unique()\n",
    "    zone_type_dict[venue_type] = list(matched_zones)\n",
    "\n",
    "# Print the resulting dictionary\n",
    "#print(zone_type_dict)"
   ]
  },
  {
   "cell_type": "markdown",
   "id": "e8c2f741",
   "metadata": {},
   "source": [
    "## Restaurant Filtering"
   ]
  },
  {
   "cell_type": "code",
   "execution_count": 170,
   "id": "7912ea88",
   "metadata": {},
   "outputs": [
    {
     "name": "stdout",
     "output_type": "stream",
     "text": [
      "{'AMERICAN_RESTAURANT': [142, 263, 239, 79, 161, 100, 238, 243, 164, 249, 107, 236, 148, 162, 48, 234], 'ITALIAN_RESTAURANT': [238, 163, 237, 230, 239, 142, 249, 48, 141, 114]}\n"
     ]
    }
   ],
   "source": [
    "restaurant_zone_dict = {}\n",
    "for restaurant_type in user_input_restaurants:\n",
    "    # Find the zones where the user's selected restaurant types are located using df_venue_restaurant\n",
    "    matched_zones = df_venue_restaurant[df_venue_restaurant['venue_mod_type'] == restaurant_type]['zone_id'].unique()\n",
    "    restaurant_zone_dict[restaurant_type] = list(matched_zones)\n",
    "\n",
    "# Print the resulting dictionary\n",
    "#print(restaurant_zone_dict)\n"
   ]
  },
  {
   "cell_type": "code",
   "execution_count": 171,
   "id": "ad0305e4",
   "metadata": {},
   "outputs": [
    {
     "name": "stdout",
     "output_type": "stream",
     "text": [
      "Restaurant types with 0 zones: []\n",
      "{}\n"
     ]
    }
   ],
   "source": [
    "restaurants_with_zero_zones = []\n",
    "\n",
    "# Iterate through the restaurant_zone_dict\n",
    "for restaurant_type, zones in restaurant_zone_dict.items():\n",
    "    if len(zones) == 0:\n",
    "        restaurants_with_zero_zones.append(restaurant_type)\n",
    "\n",
    "#print(\"Restaurant types with 0 zones:\", restaurants_with_zero_zones)\n",
    "\n",
    "filled_restaurant_with_zero_zone = {}\n",
    "\n",
    "for res_type in restaurants_with_zero_zones:\n",
    "    restaurant_to_zone_dict_copy = list(set(restaurant_zone_dict[res_type]))\n",
    "    \n",
    "    if len(restaurant_to_zone_dict_copy) <= 0:  # Modified condition\n",
    "        # get all venue id of each zone and push it to restaurant_zone_dict of that type\n",
    "        print('okay')\n",
    "        continue  # Continue to next iteration of the loop\n",
    "    \n",
    "    zone_between_dist = []\n",
    "    for user_zone in zone_group:\n",
    "        for restaurant_zone in restaurant_to_zone_dict_copy:\n",
    "            zone1_polygon = df_manhattan_zone[df_manhattan_zone['LocationID'] == user_zone]['the_geom'].iloc[0]\n",
    "            zone2_polygon = df_manhattan_zone[df_manhattan_zone['LocationID'] == restaurant_zone]['the_geom'].iloc[0]\n",
    "            distance = find_distance_between_zones(zone1_polygon, zone2_polygon)\n",
    "            zone_between_dist.append((user_zone, restaurant_zone, distance)) \n",
    "\n",
    "    sorted_zone_between_dist = sorted(zone_between_dist, key=lambda x: x[2])[:3]\n",
    "    new_zone = [df_venue_restaurant[\n",
    "        (df_venue_restaurant['zone_id'] == item[1]) &\n",
    "        (df_venue_restaurant['venue_mod_type'] == res_type)\n",
    "    ]['original_ven_id'].tolist() for item in sorted_zone_between_dist]\n",
    "    \n",
    "    filled_restaurant_with_zero_zone[res_type] = list(set(item for sublist in new_zone for item in sublist))\n",
    "\n",
    "#print(filled_restaurant_with_zero_zone)\n"
   ]
  },
  {
   "cell_type": "code",
   "execution_count": 172,
   "id": "463334eb",
   "metadata": {},
   "outputs": [
    {
     "name": "stdout",
     "output_type": "stream",
     "text": [
      "{'AMERICAN_RESTAURANT': ['ven_30365f61684a68514c7730526b6f775a6c6b7a707255624a496843', 'ven_30714e5a724f6950413148526b6f7759744c354b5331454a496843', 'ven_384a62436f6d5976694364526b6f77595a5968617061724a496843', 'ven_386e695754345a63674c55526b6f775a52572d447461364a496843', 'ven_417239716752736e6c447a526b6f7759745078672d574d4a496843', 'ven_4945542d5a7655334d6a57526b6f7759523172664f56384a496843', 'ven_49617343525a5972794235526b6f775a707135475357484a496843', 'ven_49696f3179734b6a693473526b6f77595249534f6865434a496843', 'ven_4d4f56636f49432d425736526b6f77326a6947344f327a4a496843', 'ven_5158584145756f374a4b76526b6f777a376635445166474a496843', 'ven_517362734b764763584752526b6f775a4a3032463051764a496843', 'ven_5536434b44427779443572526b6f775a5a356d787964624a496843', 'ven_554f563759583653705f73526b6f775a646146374456574a496843', 'ven_555966764a6e4a74677257526b6f77595636792d5257664a496843', 'ven_597a616b6a716649565079526b6f77595a4a63445161384a496843', 'ven_634f4363417644424e616a526b6f775a685179765633524a496843', 'ven_636d5f33545a4f4f65736b526b6f7759743466574258654a496843', 'ven_676d735f5a644d594d4e43526b6f77616c433078735a664a496843', 'ven_677a6b384456717362517a526b6f775a314764555866484a496843', 'ven_6f3970777349416b6b635a526b6f77594a4655377635704a496843', 'ven_7330663377497968657a68526b6f77594e3139724b51304a496843', 'ven_735365637a644a62515946526b6f775a467167495153764a496843', 'ven_775373576f773733303343526b6f775a68634f4c34776c4a496843', 'ven_77667a36446e4432637273526b6f775a742d316366516c4a496843'], 'ITALIAN_RESTAURANT': ['ven_3048674a4764455f76744f526b6f77594a6f5f617658724a496843', 'ven_3068674e6f56796343637a526b6f7759743177664259304a496843', 'ven_3844703267353739533762526b6f775a7052724545786c4a496843', 'ven_4168437230416a45783158526b6f7759526c2d6f5339524a496843', 'ven_416a395131386f65616b51526b6f7759703461425661574a496843', 'ven_4531715754335f314a5337526b6f7759565950466435714a496843', 'ven_454a426f344a7a6c764a74526b6f7759525f767035794b4a496843', 'ven_495374556d36693165436d526b6f775a464558707631774a496843', 'ven_495a76784756397a636c61526b6f77595659624d79624f4a496843', 'ven_4d4e4a7a66346836745a31526b6f77597434434e4455414a496843', 'ven_4d5479484a476c70664144526b6f7759746f423142634f4a496843', 'ven_515f466457386349774574526b6f775a46556e374353444a496843', 'ven_553045716f6975386f7663526b6f775a743263763353354a496843', 'ven_555135764d4d546a5a596c526b6f775970347a47625a5a4a496843', 'ven_593769776f766b664d5845526b6f775a6c4c387937664b4a496843', 'ven_59394d6e4647334b39736f526b6f7759743444707577544a496843', 'ven_63326b76356569306b6c5a526b6f77597870715033666b4a496843', 'ven_6373616b72775a37647977526b6f7759686f6c373258644a496843', 'ven_6766616e713152586e5374526b6f77595634454d5a37714a496843', 'ven_6777326f753853575a3875526b6f7759524643417333374a496843', 'ven_677a584d792d3872515771526b6f7759744977693362484a496843', 'ven_6b4252475f792d6c5a5057526b6f775968653379652d394a496843', 'ven_6b69536e344b337645554e526b6f775a5a5a764a55525f4a496843', 'ven_6b735f44766d736f7a796b526b6f7759563448652d624f4a496843', 'ven_6f61432d6942754d737746526b6f775970344a346851524a496843', 'ven_73373243427a7677647179526b6f77595a56676549666a4a496843', 'ven_736667483138515937774c526b6f775a705a305967565f4a496843']}\n"
     ]
    }
   ],
   "source": [
    "restaurant_venue_dict = {}\n",
    "\n",
    "for restaurant_type, zones in restaurant_zone_dict.items():\n",
    "    # Filter the df_venue_restaurant dataframe for the specific restaurant type and zones\n",
    "    matched_venues = df_venue_restaurant[\n",
    "        (df_venue_restaurant['venue_mod_type'] == restaurant_type) &\n",
    "        (df_venue_restaurant['zone_id'].isin(zones))\n",
    "    ]['original_ven_id'].unique()  # Retrieving the unique venue_ids\n",
    "    \n",
    "    restaurant_venue_dict[restaurant_type] = list(matched_venues)\n",
    "\n",
    "#print(restaurant_venue_dict)\n"
   ]
  },
  {
   "cell_type": "code",
   "execution_count": 173,
   "id": "9d6eccb2",
   "metadata": {
    "scrolled": true
   },
   "outputs": [
    {
     "name": "stdout",
     "output_type": "stream",
     "text": [
      "{'Tourist Destination': ['ven_303749644b67576e694b55526b6f7759685f4a445761324a496843', 'ven_304a6c77747a366c755455526b6f77594a7070575959454a496843', 'ven_307063396f374b4b4e6b71526b6f7759564a316c35656e4a496843', 'ven_3466426a743170534d634c526b6f77594a76706c5363784a496843', 'ven_3466483971693253303578526b6f7732765463666330384a496843', 'ven_34787a3570694c6e375964526b6f7759645a30414138594a496843', 'ven_347a2d78444c59782d4f4f526b6f77594e3534494233744a496843', 'ven_3844456669735664576538526b6f775942716d6c4a5a4b4a496843', 'ven_385252516c6f7a32335439526b6f7759782d57657a5f744a496843', 'ven_3855656e41664c4f68764c526b6f7732446b2d6e71786f4a496843', 'ven_38645155503361334d3934526b6f7759355956627538384a496843', 'ven_386953773374434b6b5269526b6f7732547950655a52534a496843', 'ven_4132676164315471633870526b6f775a3138534d6154384a496843', 'ven_41434b554a474f30326d2d526b6f77594a6153713854734a496843', 'ven_41546174395076324a4a4a526b6f77594a4b5a6d53634b4a496843', 'ven_415658356c724c57637158526b6f7759355966794556494a496843', 'ven_45566b4479733438494a61526b6f775952704d3242546a4a496843', 'ven_456e54656a5a6276575936526b6f775a4e2d43744f5f644a496843', 'ven_494d30494477545a4a657a526b6f7759563531734432524a496843', 'ven_495f727346415163724f64526b6f77325f784f413864794a496843', 'ven_496166424b6e594d315673526b6f7759525073506f58434a496843', 'ven_496f786742743433746c6f526b6f773144646a306c39344a496843', 'ven_49724965316452505f3148526b6f77594a35553366315f4a496843', 'ven_49726b487a6d4b496a5538526b6f77593949365744396f4a496843', 'ven_497334794b377835486e55526b6f775964356c4b565f4a4a496843', 'ven_4d324566304a52446b6234526b6f77594e5f786c4d33344a496843', 'ven_4d457a4474397179337835526b6f7759704a46752d77734a496843', 'ven_4d4f717065304438546963526b6f773244306d4c6f66624a496843', 'ven_4d6b635a66496d5f4e4974526b6f77595a66714b76536f4a496843', 'ven_5131757937506d716a5656526b6f7759316265523959354a496843', 'ven_51386f4f4968583076775f526b6f77327a6a56375230614a496843', 'ven_51416f63306f39377a4475526b6f77594a716d65355a6d4a496843', 'ven_51683176714b3744615056526b6f77597862375f6b576f4a496843', 'ven_516e525873374354527751526b6f7759313477732d34394a496843', 'ven_5532317551593261384446526b6f775946505f576a57614a496843', 'ven_554975514d79783467714d526b6f77594e706e4e6b7a414a496843', 'ven_55613477334b4957707751526b6f77595a49654f5632364a496843', 'ven_557a78624d425838544f65526b6f7759316569484d30554a496843', 'ven_5945636445507078654d7a526b6f77594a71514e6c35304a496843', 'ven_594c414b424e7861515470526b6f77327652734f6a54714a496843', 'ven_595736565a6d62787a7330526b6f77326e4272346b774c4a496843', 'ven_595f5f784d463266636a6f526b6f7759424a4272355a4a4a496843', 'ven_5962576e4e726135545f56526b6f775939595a4d3558324a496843', 'ven_596454514639324f565773526b6f77325f525975565a6c4a496843', 'ven_5972624350616238694f57526b6f77595a5a31725930354a496843', 'ven_636849347a37534f62464c526b6f77596434644a7230494a496843', 'ven_673437695f797470675874526b6f7759396534667a58464a496843', 'ven_67344e7669664177774743526b6f77594e767263427a654a496843', 'ven_67375a3630494f3539724b526b6f775952715a367036714a496843', 'ven_6743617a59472d4a564449526b6f77595a76734c6156794a496843', 'ven_674a5830354e5572664339526b6f77326e42436652575f4a496843', 'ven_676a53423161456a363564526b6f773244555733565a364a496843', 'ven_6b3733664d336870475547526b6f7759705a4146477a344a496843', 'ven_6f4b42787a706434525f76526b6f7759424a48384a39414a496843', 'ven_6f705548536a3470353159526b6f7759527168733451624a496843', 'ven_733950504e644550574537526b6f77327a42506e3037684a496843', 'ven_73533764685f6d75566b6d526b6f77594a714f484c57594a496843', 'ven_7366516c31652d4f4e436b526b6f7759314965613652694a496843', 'ven_737a4c6b5376744748712d526b6f77595a7039674a38624a496843', 'ven_7778775545424e486d7075526b6f7759465048596d644f4a496843'], 'Fashion Convenience': ['ven_30504d554d38614b6b6f78526b6f7759786267705963354a496843', 'ven_307063396f374b4b4e6b71526b6f7759564a316c35656e4a496843', 'ven_34787a3570694c6e375964526b6f7759645a30414138594a496843', 'ven_385252516c6f7a32335439526b6f7759782d57657a5f744a496843', 'ven_38645155503361334d3934526b6f7759355956627538384a496843', 'ven_3875714251714574684232526b6f775a78614e3764616c4a496843', 'ven_41434b554a474f30326d2d526b6f77594a6153713854734a496843', 'ven_41546447325f6964534674526b6f775a4673765f6133624a496843', 'ven_415658356c724c57637158526b6f7759355966794556494a496843', 'ven_45566b4479733438494a61526b6f775952704d3242546a4a496843', 'ven_455946676359706d47646e526b6f77595a5f4c735033704a496843', 'ven_456a3266757a4250707a4e526b6f775a524135576738364a496843', 'ven_456e54656a5a6276575936526b6f775a4e2d43744f5f644a496843', 'ven_494d30494477545a4a657a526b6f7759563531734432524a496843', 'ven_495843304f594b6f355130526b6f775978656f435636394a496843', 'ven_495f6e76636f42494a6841526b6f77595650686c735f774a496843', 'ven_496166424b6e594d315673526b6f7759525073506f58434a496843', 'ven_49726b487a6d4b496a5538526b6f77593949365744396f4a496843', 'ven_5131757937506d716a5656526b6f7759316265523959354a496843', 'ven_51416f63306f39377a4475526b6f77594a716d65355a6d4a496843', 'ven_51446447416e773241794f526b6f775970494e52397a654a496843', 'ven_51683176714b3744615056526b6f77597862375f6b576f4a496843', 'ven_517636454b535639515037526b6f775968566f6c767a4a4a496843', 'ven_55613477334b4957707751526b6f77595a49654f5632364a496843', 'ven_5566616f4e337545413945526b6f7759782d54524361674a496843', 'ven_5945636445507078654d7a526b6f77594a71514e6c35304a496843', 'ven_5962576e4e726135545f56526b6f775939595a4d3558324a496843', 'ven_636849347a37534f62464c526b6f77596434644a7230494a496843', 'ven_636a794c346b73704c3170526b6f7759784f53665161574a496843', 'ven_673368364673754d693466526b6f775970756970582d444a496843', 'ven_67375a3630494f3539724b526b6f775952715a367036714a496843', 'ven_67696d56476149435f6965526b6f775a6c5a52445036524a496843', 'ven_6772646250704a68513065526b6f77595a4f62595734794a496843', 'ven_67726a544b332d45634264526b6f77595a5f4c735033704a496843', 'ven_6b51657951327931574d79526b6f7759784f524154524f4a496843', 'ven_6b6d4f656b323831793364526b6f77594a6362353051624a496843', 'ven_6b77466c386b7878434a49526b6f7759745f714274584f4a496843', 'ven_6b7a72724d57625a307367526b6f7759565046364465454a496843', 'ven_6f3367575f457366717473526b6f7759565f577156546e4a496843', 'ven_6f705548536a3470353159526b6f7759527168733451624a496843', 'ven_73306a6956627357544e53526b6f7759784c7750352d514a496843', 'ven_73533764685f6d75566b6d526b6f77594a714f484c57594a496843', 'ven_77452d65676a4430616250526b6f7759782d704b5454704a496843', 'ven_776c426b3172735a6f5455526b6f77595a5f4c735033704a496843'], 'Nature Attractions': ['ven_303749644b67576e694b55526b6f7759685f4a445761324a496843', 'ven_304a6c77747a366c755455526b6f77594a7070575959454a496843', 'ven_3466426a743170534d634c526b6f77594a76706c5363784a496843', 'ven_347a2d78444c59782d4f4f526b6f77594e3534494233744a496843', 'ven_3844456669735664576538526b6f775942716d6c4a5a4b4a496843', 'ven_386953773374434b6b5269526b6f7732547950655a52534a496843', 'ven_4132676164315471633870526b6f775a3138534d6154384a496843', 'ven_41546174395076324a4a4a526b6f77594a4b5a6d53634b4a496843', 'ven_495f727346415163724f64526b6f77325f784f413864794a496843', 'ven_496f786742743433746c6f526b6f773144646a306c39344a496843', 'ven_49724965316452505f3148526b6f77594a35553366315f4a496843', 'ven_497334794b377835486e55526b6f775964356c4b565f4a4a496843', 'ven_4d324566304a52446b6234526b6f77594e5f786c4d33344a496843', 'ven_4d457a4474397179337835526b6f7759704a46752d77734a496843', 'ven_4d6b635a66496d5f4e4974526b6f77595a66714b76536f4a496843', 'ven_516e525873374354527751526b6f7759313477732d34394a496843', 'ven_5532317551593261384446526b6f775946505f576a57614a496843', 'ven_554975514d79783467714d526b6f77594e706e4e6b7a414a496843', 'ven_557a78624d425838544f65526b6f7759316569484d30554a496843', 'ven_594c414b424e7861515470526b6f77327652734f6a54714a496843', 'ven_595736565a6d62787a7330526b6f77326e4272346b774c4a496843', 'ven_595f5f784d463266636a6f526b6f7759424a4272355a4a4a496843', 'ven_596454514639324f565773526b6f77325f525975565a6c4a496843', 'ven_5972624350616238694f57526b6f77595a5a31725930354a496843', 'ven_673437695f797470675874526b6f7759396534667a58464a496843', 'ven_67344e7669664177774743526b6f77594e767263427a654a496843', 'ven_6743617a59472d4a564449526b6f77595a76734c6156794a496843', 'ven_674a5830354e5572664339526b6f77326e42436652575f4a496843', 'ven_6b3733664d336870475547526b6f7759705a4146477a344a496843', 'ven_6f4b42787a706434525f76526b6f7759424a48384a39414a496843', 'ven_733950504e644550574537526b6f77327a42506e3037684a496843', 'ven_7366516c31652d4f4e436b526b6f7759314965613652694a496843', 'ven_737a4c6b5376744748712d526b6f77595a7039674a38624a496843', 'ven_7778775545424e486d7075526b6f7759465048596d644f4a496843'], 'Shopping Center': ['ven_455946676359706d47646e526b6f77595a5f4c735033704a496843', 'ven_45767a5a37493134595157526b6f775964324e424e65734a496843', 'ven_495f6e76636f42494a6841526b6f77595650686c735f774a496843', 'ven_51446447416e773241794f526b6f775970494e52397a654a496843', 'ven_517636454b535639515037526b6f775968566f6c767a4a4a496843', 'ven_67726a544b332d45634264526b6f77595a5f4c735033704a496843', 'ven_6b7a72724d57625a307367526b6f7759565046364465454a496843', 'ven_6f3367575f457366717473526b6f7759565f577156546e4a496843', 'ven_7349707841675455786e57526b6f7759703461757451474a496843', 'ven_776c426b3172735a6f5455526b6f77595a5f4c735033704a496843']}\n"
     ]
    }
   ],
   "source": [
    "user_venue_per_type_dict = {}\n",
    "for venue_type in itinerary_timing:\n",
    "    matched_zones = df_venue_static_att[df_venue_static_att['venue_mod_type'] == venue_type]['zone_id']\n",
    "    matching_zones = matched_zones[matched_zones.isin(zone_group)]\n",
    "    result_df = df_venue_static_att[df_venue_static_att['zone_id'].isin(matching_zones)]['original_ven_id']\n",
    "    user_venue_per_type_dict[venue_type] = list(result_df)\n",
    "\n",
    "# Print the resulting dictionary\n",
    "#print(user_venue_per_type_dict)"
   ]
  },
  {
   "cell_type": "code",
   "execution_count": 174,
   "id": "96dcb287",
   "metadata": {},
   "outputs": [
    {
     "name": "stdout",
     "output_type": "stream",
     "text": [
      "Venue types with 0 zones: []\n"
     ]
    }
   ],
   "source": [
    "types_with_zero_zones = []\n",
    "\n",
    "# Iterate through the venue_type_dict\n",
    "for venue_type, zones in user_venue_per_type_dict.items():\n",
    "    if len(zones) == 0:\n",
    "        types_with_zero_zones.append(venue_type)\n",
    "\n",
    "#print(\"Venue types with 0 zones:\", types_with_zero_zones)"
   ]
  },
  {
   "cell_type": "code",
   "execution_count": 175,
   "id": "95946cee",
   "metadata": {},
   "outputs": [],
   "source": [
    "def find_distance_between_zones(zone1_polygon, zone2_polygon):\n",
    "    # Find the nearest points between the two polygons\n",
    "    nearest_points_result = nearest_points(wkt.loads(zone1_polygon), wkt.loads(zone2_polygon))\n",
    "\n",
    "    # Calculate the distance between the nearest points\n",
    "    distance = nearest_points_result[0].distance(nearest_points_result[1])\n",
    "    return distance"
   ]
  },
  {
   "cell_type": "code",
   "execution_count": 176,
   "id": "51d0ee8e",
   "metadata": {},
   "outputs": [
    {
     "data": {
      "text/plain": [
       "{}"
      ]
     },
     "execution_count": 176,
     "metadata": {},
     "output_type": "execute_result"
    }
   ],
   "source": [
    "filled_type_with_zero_zone = {}\n",
    "\n",
    "for ven_type in types_with_zero_zones:\n",
    "    venue_to_zone_dict_copy = list(set(venue_to_zone_dict[ven_type]))\n",
    "    \n",
    "    if len(venue_to_zone_dict_copy) <= 0: # Modified condition\n",
    "        #get all venue id of each zone and push it to user_venue_per_type_dict of that type\n",
    "        print('okay')\n",
    "        continue  # Continue to next iteration of the loop\n",
    "    \n",
    "    zone_between_dist = []\n",
    "    for user_zone in zone_group:\n",
    "        for venue_zone in venue_to_zone_dict_copy:\n",
    "            zone1_polygon = df_manhattan_zone[df_manhattan_zone['LocationID'] == user_zone]['the_geom'].iloc[0]\n",
    "            zone2_polygon = df_manhattan_zone[df_manhattan_zone['LocationID'] == venue_zone]['the_geom'].iloc[0]\n",
    "            distance = find_distance_between_zones(zone1_polygon, zone2_polygon)\n",
    "            zone_between_dist.append((user_zone, venue_zone, distance)) \n",
    "\n",
    "    sorted_zone_between_dist = sorted(zone_between_dist, key=lambda x: x[2])[:3]\n",
    "    new_zone = [df_venue_static_att[\n",
    "        (df_venue_static_att['zone_id'] == item[1]) &\n",
    "        (df_venue_static_att['venue_mod_type'] == ven_type)\n",
    "    ]['original_ven_id'].tolist() for item in sorted_zone_between_dist]\n",
    "    \n",
    "    filled_type_with_zero_zone[ven_type] = list(set(item for sublist in new_zone for item in sublist))\n",
    "\n",
    "#filled_type_with_zero_zone\n"
   ]
  },
  {
   "cell_type": "code",
   "execution_count": 177,
   "id": "7bdfa136",
   "metadata": {},
   "outputs": [
    {
     "name": "stdout",
     "output_type": "stream",
     "text": [
      "{'Tourist Destination': ['ven_303749644b67576e694b55526b6f7759685f4a445761324a496843', 'ven_304a6c77747a366c755455526b6f77594a7070575959454a496843', 'ven_307063396f374b4b4e6b71526b6f7759564a316c35656e4a496843', 'ven_3466426a743170534d634c526b6f77594a76706c5363784a496843', 'ven_3466483971693253303578526b6f7732765463666330384a496843', 'ven_34787a3570694c6e375964526b6f7759645a30414138594a496843', 'ven_347a2d78444c59782d4f4f526b6f77594e3534494233744a496843', 'ven_3844456669735664576538526b6f775942716d6c4a5a4b4a496843', 'ven_385252516c6f7a32335439526b6f7759782d57657a5f744a496843', 'ven_3855656e41664c4f68764c526b6f7732446b2d6e71786f4a496843', 'ven_38645155503361334d3934526b6f7759355956627538384a496843', 'ven_386953773374434b6b5269526b6f7732547950655a52534a496843', 'ven_4132676164315471633870526b6f775a3138534d6154384a496843', 'ven_41434b554a474f30326d2d526b6f77594a6153713854734a496843', 'ven_41546174395076324a4a4a526b6f77594a4b5a6d53634b4a496843', 'ven_415658356c724c57637158526b6f7759355966794556494a496843', 'ven_45566b4479733438494a61526b6f775952704d3242546a4a496843', 'ven_456e54656a5a6276575936526b6f775a4e2d43744f5f644a496843', 'ven_494d30494477545a4a657a526b6f7759563531734432524a496843', 'ven_495f727346415163724f64526b6f77325f784f413864794a496843', 'ven_496166424b6e594d315673526b6f7759525073506f58434a496843', 'ven_496f786742743433746c6f526b6f773144646a306c39344a496843', 'ven_49724965316452505f3148526b6f77594a35553366315f4a496843', 'ven_49726b487a6d4b496a5538526b6f77593949365744396f4a496843', 'ven_497334794b377835486e55526b6f775964356c4b565f4a4a496843', 'ven_4d324566304a52446b6234526b6f77594e5f786c4d33344a496843', 'ven_4d457a4474397179337835526b6f7759704a46752d77734a496843', 'ven_4d4f717065304438546963526b6f773244306d4c6f66624a496843', 'ven_4d6b635a66496d5f4e4974526b6f77595a66714b76536f4a496843', 'ven_5131757937506d716a5656526b6f7759316265523959354a496843', 'ven_51386f4f4968583076775f526b6f77327a6a56375230614a496843', 'ven_51416f63306f39377a4475526b6f77594a716d65355a6d4a496843', 'ven_51683176714b3744615056526b6f77597862375f6b576f4a496843', 'ven_516e525873374354527751526b6f7759313477732d34394a496843', 'ven_5532317551593261384446526b6f775946505f576a57614a496843', 'ven_554975514d79783467714d526b6f77594e706e4e6b7a414a496843', 'ven_55613477334b4957707751526b6f77595a49654f5632364a496843', 'ven_557a78624d425838544f65526b6f7759316569484d30554a496843', 'ven_5945636445507078654d7a526b6f77594a71514e6c35304a496843', 'ven_594c414b424e7861515470526b6f77327652734f6a54714a496843', 'ven_595736565a6d62787a7330526b6f77326e4272346b774c4a496843', 'ven_595f5f784d463266636a6f526b6f7759424a4272355a4a4a496843', 'ven_5962576e4e726135545f56526b6f775939595a4d3558324a496843', 'ven_596454514639324f565773526b6f77325f525975565a6c4a496843', 'ven_5972624350616238694f57526b6f77595a5a31725930354a496843', 'ven_636849347a37534f62464c526b6f77596434644a7230494a496843', 'ven_673437695f797470675874526b6f7759396534667a58464a496843', 'ven_67344e7669664177774743526b6f77594e767263427a654a496843', 'ven_67375a3630494f3539724b526b6f775952715a367036714a496843', 'ven_6743617a59472d4a564449526b6f77595a76734c6156794a496843', 'ven_674a5830354e5572664339526b6f77326e42436652575f4a496843', 'ven_676a53423161456a363564526b6f773244555733565a364a496843', 'ven_6b3733664d336870475547526b6f7759705a4146477a344a496843', 'ven_6f4b42787a706434525f76526b6f7759424a48384a39414a496843', 'ven_6f705548536a3470353159526b6f7759527168733451624a496843', 'ven_733950504e644550574537526b6f77327a42506e3037684a496843', 'ven_73533764685f6d75566b6d526b6f77594a714f484c57594a496843', 'ven_7366516c31652d4f4e436b526b6f7759314965613652694a496843', 'ven_737a4c6b5376744748712d526b6f77595a7039674a38624a496843', 'ven_7778775545424e486d7075526b6f7759465048596d644f4a496843'], 'Fashion Convenience': ['ven_30504d554d38614b6b6f78526b6f7759786267705963354a496843', 'ven_307063396f374b4b4e6b71526b6f7759564a316c35656e4a496843', 'ven_34787a3570694c6e375964526b6f7759645a30414138594a496843', 'ven_385252516c6f7a32335439526b6f7759782d57657a5f744a496843', 'ven_38645155503361334d3934526b6f7759355956627538384a496843', 'ven_3875714251714574684232526b6f775a78614e3764616c4a496843', 'ven_41434b554a474f30326d2d526b6f77594a6153713854734a496843', 'ven_41546447325f6964534674526b6f775a4673765f6133624a496843', 'ven_415658356c724c57637158526b6f7759355966794556494a496843', 'ven_45566b4479733438494a61526b6f775952704d3242546a4a496843', 'ven_455946676359706d47646e526b6f77595a5f4c735033704a496843', 'ven_456a3266757a4250707a4e526b6f775a524135576738364a496843', 'ven_456e54656a5a6276575936526b6f775a4e2d43744f5f644a496843', 'ven_494d30494477545a4a657a526b6f7759563531734432524a496843', 'ven_495843304f594b6f355130526b6f775978656f435636394a496843', 'ven_495f6e76636f42494a6841526b6f77595650686c735f774a496843', 'ven_496166424b6e594d315673526b6f7759525073506f58434a496843', 'ven_49726b487a6d4b496a5538526b6f77593949365744396f4a496843', 'ven_5131757937506d716a5656526b6f7759316265523959354a496843', 'ven_51416f63306f39377a4475526b6f77594a716d65355a6d4a496843', 'ven_51446447416e773241794f526b6f775970494e52397a654a496843', 'ven_51683176714b3744615056526b6f77597862375f6b576f4a496843', 'ven_517636454b535639515037526b6f775968566f6c767a4a4a496843', 'ven_55613477334b4957707751526b6f77595a49654f5632364a496843', 'ven_5566616f4e337545413945526b6f7759782d54524361674a496843', 'ven_5945636445507078654d7a526b6f77594a71514e6c35304a496843', 'ven_5962576e4e726135545f56526b6f775939595a4d3558324a496843', 'ven_636849347a37534f62464c526b6f77596434644a7230494a496843', 'ven_636a794c346b73704c3170526b6f7759784f53665161574a496843', 'ven_673368364673754d693466526b6f775970756970582d444a496843', 'ven_67375a3630494f3539724b526b6f775952715a367036714a496843', 'ven_67696d56476149435f6965526b6f775a6c5a52445036524a496843', 'ven_6772646250704a68513065526b6f77595a4f62595734794a496843', 'ven_67726a544b332d45634264526b6f77595a5f4c735033704a496843', 'ven_6b51657951327931574d79526b6f7759784f524154524f4a496843', 'ven_6b6d4f656b323831793364526b6f77594a6362353051624a496843', 'ven_6b77466c386b7878434a49526b6f7759745f714274584f4a496843', 'ven_6b7a72724d57625a307367526b6f7759565046364465454a496843', 'ven_6f3367575f457366717473526b6f7759565f577156546e4a496843', 'ven_6f705548536a3470353159526b6f7759527168733451624a496843', 'ven_73306a6956627357544e53526b6f7759784c7750352d514a496843', 'ven_73533764685f6d75566b6d526b6f77594a714f484c57594a496843', 'ven_77452d65676a4430616250526b6f7759782d704b5454704a496843', 'ven_776c426b3172735a6f5455526b6f77595a5f4c735033704a496843'], 'Nature Attractions': ['ven_303749644b67576e694b55526b6f7759685f4a445761324a496843', 'ven_304a6c77747a366c755455526b6f77594a7070575959454a496843', 'ven_3466426a743170534d634c526b6f77594a76706c5363784a496843', 'ven_347a2d78444c59782d4f4f526b6f77594e3534494233744a496843', 'ven_3844456669735664576538526b6f775942716d6c4a5a4b4a496843', 'ven_386953773374434b6b5269526b6f7732547950655a52534a496843', 'ven_4132676164315471633870526b6f775a3138534d6154384a496843', 'ven_41546174395076324a4a4a526b6f77594a4b5a6d53634b4a496843', 'ven_495f727346415163724f64526b6f77325f784f413864794a496843', 'ven_496f786742743433746c6f526b6f773144646a306c39344a496843', 'ven_49724965316452505f3148526b6f77594a35553366315f4a496843', 'ven_497334794b377835486e55526b6f775964356c4b565f4a4a496843', 'ven_4d324566304a52446b6234526b6f77594e5f786c4d33344a496843', 'ven_4d457a4474397179337835526b6f7759704a46752d77734a496843', 'ven_4d6b635a66496d5f4e4974526b6f77595a66714b76536f4a496843', 'ven_516e525873374354527751526b6f7759313477732d34394a496843', 'ven_5532317551593261384446526b6f775946505f576a57614a496843', 'ven_554975514d79783467714d526b6f77594e706e4e6b7a414a496843', 'ven_557a78624d425838544f65526b6f7759316569484d30554a496843', 'ven_594c414b424e7861515470526b6f77327652734f6a54714a496843', 'ven_595736565a6d62787a7330526b6f77326e4272346b774c4a496843', 'ven_595f5f784d463266636a6f526b6f7759424a4272355a4a4a496843', 'ven_596454514639324f565773526b6f77325f525975565a6c4a496843', 'ven_5972624350616238694f57526b6f77595a5a31725930354a496843', 'ven_673437695f797470675874526b6f7759396534667a58464a496843', 'ven_67344e7669664177774743526b6f77594e767263427a654a496843', 'ven_6743617a59472d4a564449526b6f77595a76734c6156794a496843', 'ven_674a5830354e5572664339526b6f77326e42436652575f4a496843', 'ven_6b3733664d336870475547526b6f7759705a4146477a344a496843', 'ven_6f4b42787a706434525f76526b6f7759424a48384a39414a496843', 'ven_733950504e644550574537526b6f77327a42506e3037684a496843', 'ven_7366516c31652d4f4e436b526b6f7759314965613652694a496843', 'ven_737a4c6b5376744748712d526b6f77595a7039674a38624a496843', 'ven_7778775545424e486d7075526b6f7759465048596d644f4a496843'], 'Shopping Center': ['ven_455946676359706d47646e526b6f77595a5f4c735033704a496843', 'ven_45767a5a37493134595157526b6f775964324e424e65734a496843', 'ven_495f6e76636f42494a6841526b6f77595650686c735f774a496843', 'ven_51446447416e773241794f526b6f775970494e52397a654a496843', 'ven_517636454b535639515037526b6f775968566f6c767a4a4a496843', 'ven_67726a544b332d45634264526b6f77595a5f4c735033704a496843', 'ven_6b7a72724d57625a307367526b6f7759565046364465454a496843', 'ven_6f3367575f457366717473526b6f7759565f577156546e4a496843', 'ven_7349707841675455786e57526b6f7759703461757451474a496843', 'ven_776c426b3172735a6f5455526b6f77595a5f4c735033704a496843']}\n",
      "{'AMERICAN_RESTAURANT': ['ven_30365f61684a68514c7730526b6f775a6c6b7a707255624a496843', 'ven_30714e5a724f6950413148526b6f7759744c354b5331454a496843', 'ven_384a62436f6d5976694364526b6f77595a5968617061724a496843', 'ven_386e695754345a63674c55526b6f775a52572d447461364a496843', 'ven_417239716752736e6c447a526b6f7759745078672d574d4a496843', 'ven_4945542d5a7655334d6a57526b6f7759523172664f56384a496843', 'ven_49617343525a5972794235526b6f775a707135475357484a496843', 'ven_49696f3179734b6a693473526b6f77595249534f6865434a496843', 'ven_4d4f56636f49432d425736526b6f77326a6947344f327a4a496843', 'ven_5158584145756f374a4b76526b6f777a376635445166474a496843', 'ven_517362734b764763584752526b6f775a4a3032463051764a496843', 'ven_5536434b44427779443572526b6f775a5a356d787964624a496843', 'ven_554f563759583653705f73526b6f775a646146374456574a496843', 'ven_555966764a6e4a74677257526b6f77595636792d5257664a496843', 'ven_597a616b6a716649565079526b6f77595a4a63445161384a496843', 'ven_634f4363417644424e616a526b6f775a685179765633524a496843', 'ven_636d5f33545a4f4f65736b526b6f7759743466574258654a496843', 'ven_676d735f5a644d594d4e43526b6f77616c433078735a664a496843', 'ven_677a6b384456717362517a526b6f775a314764555866484a496843', 'ven_6f3970777349416b6b635a526b6f77594a4655377635704a496843', 'ven_7330663377497968657a68526b6f77594e3139724b51304a496843', 'ven_735365637a644a62515946526b6f775a467167495153764a496843', 'ven_775373576f773733303343526b6f775a68634f4c34776c4a496843', 'ven_77667a36446e4432637273526b6f775a742d316366516c4a496843'], 'ITALIAN_RESTAURANT': ['ven_3048674a4764455f76744f526b6f77594a6f5f617658724a496843', 'ven_3068674e6f56796343637a526b6f7759743177664259304a496843', 'ven_3844703267353739533762526b6f775a7052724545786c4a496843', 'ven_4168437230416a45783158526b6f7759526c2d6f5339524a496843', 'ven_416a395131386f65616b51526b6f7759703461425661574a496843', 'ven_4531715754335f314a5337526b6f7759565950466435714a496843', 'ven_454a426f344a7a6c764a74526b6f7759525f767035794b4a496843', 'ven_495374556d36693165436d526b6f775a464558707631774a496843', 'ven_495a76784756397a636c61526b6f77595659624d79624f4a496843', 'ven_4d4e4a7a66346836745a31526b6f77597434434e4455414a496843', 'ven_4d5479484a476c70664144526b6f7759746f423142634f4a496843', 'ven_515f466457386349774574526b6f775a46556e374353444a496843', 'ven_553045716f6975386f7663526b6f775a743263763353354a496843', 'ven_555135764d4d546a5a596c526b6f775970347a47625a5a4a496843', 'ven_593769776f766b664d5845526b6f775a6c4c387937664b4a496843', 'ven_59394d6e4647334b39736f526b6f7759743444707577544a496843', 'ven_63326b76356569306b6c5a526b6f77597870715033666b4a496843', 'ven_6373616b72775a37647977526b6f7759686f6c373258644a496843', 'ven_6766616e713152586e5374526b6f77595634454d5a37714a496843', 'ven_6777326f753853575a3875526b6f7759524643417333374a496843', 'ven_677a584d792d3872515771526b6f7759744977693362484a496843', 'ven_6b4252475f792d6c5a5057526b6f775968653379652d394a496843', 'ven_6b69536e344b337645554e526b6f775a5a5a764a55525f4a496843', 'ven_6b735f44766d736f7a796b526b6f7759563448652d624f4a496843', 'ven_6f61432d6942754d737746526b6f775970344a346851524a496843', 'ven_73373243427a7677647179526b6f77595a56676549666a4a496843', 'ven_736667483138515937774c526b6f775a705a305967565f4a496843']}\n"
     ]
    }
   ],
   "source": [
    "# For venues\n",
    "for key in user_venue_per_type_dict.keys():\n",
    "    # Check if the value of the current key is an empty array\n",
    "    if len(user_venue_per_type_dict[key]) == 0:\n",
    "        # Check if the key exists in the filled dictionary for venues\n",
    "        if key in filled_type_with_zero_zone:\n",
    "            # Replace the value in the main dictionary with the value from the filled dictionary for venues\n",
    "            user_venue_per_type_dict[key] = filled_type_with_zero_zone[key]\n",
    "\n",
    "# For restaurants\n",
    "for key in restaurant_venue_dict.keys():\n",
    "    # Check if the value of the current key is an empty array\n",
    "    if len(restaurant_venue_dict[key]) == 0:\n",
    "        # Check if the key exists in the filled dictionary for restaurants\n",
    "        if key in filled_restaurant_with_zero_zone:\n",
    "            # Replace the value in the main dictionary with the value from the filled dictionary for restaurants\n",
    "            restaurant_venue_dict[key] = filled_restaurant_with_zero_zone[key]\n",
    "\n",
    "#print(user_venue_per_type_dict)\n",
    "#print(restaurant_venue_dict)\n"
   ]
  },
  {
   "cell_type": "code",
   "execution_count": 178,
   "id": "39e48c15",
   "metadata": {},
   "outputs": [
    {
     "name": "stdout",
     "output_type": "stream",
     "text": [
      "{'Tourist Destination': ['ven_303749644b67576e694b55526b6f7759685f4a445761324a496843', 'ven_304a6c77747a366c755455526b6f77594a7070575959454a496843', 'ven_307063396f374b4b4e6b71526b6f7759564a316c35656e4a496843', 'ven_3466426a743170534d634c526b6f77594a76706c5363784a496843', 'ven_3466483971693253303578526b6f7732765463666330384a496843', 'ven_34787a3570694c6e375964526b6f7759645a30414138594a496843', 'ven_347a2d78444c59782d4f4f526b6f77594e3534494233744a496843', 'ven_3844456669735664576538526b6f775942716d6c4a5a4b4a496843', 'ven_385252516c6f7a32335439526b6f7759782d57657a5f744a496843', 'ven_3855656e41664c4f68764c526b6f7732446b2d6e71786f4a496843', 'ven_38645155503361334d3934526b6f7759355956627538384a496843', 'ven_386953773374434b6b5269526b6f7732547950655a52534a496843', 'ven_4132676164315471633870526b6f775a3138534d6154384a496843', 'ven_41434b554a474f30326d2d526b6f77594a6153713854734a496843', 'ven_41546174395076324a4a4a526b6f77594a4b5a6d53634b4a496843', 'ven_415658356c724c57637158526b6f7759355966794556494a496843', 'ven_45566b4479733438494a61526b6f775952704d3242546a4a496843', 'ven_456e54656a5a6276575936526b6f775a4e2d43744f5f644a496843', 'ven_494d30494477545a4a657a526b6f7759563531734432524a496843', 'ven_495f727346415163724f64526b6f77325f784f413864794a496843', 'ven_496166424b6e594d315673526b6f7759525073506f58434a496843', 'ven_496f786742743433746c6f526b6f773144646a306c39344a496843', 'ven_49724965316452505f3148526b6f77594a35553366315f4a496843', 'ven_49726b487a6d4b496a5538526b6f77593949365744396f4a496843', 'ven_497334794b377835486e55526b6f775964356c4b565f4a4a496843', 'ven_4d324566304a52446b6234526b6f77594e5f786c4d33344a496843', 'ven_4d457a4474397179337835526b6f7759704a46752d77734a496843', 'ven_4d4f717065304438546963526b6f773244306d4c6f66624a496843', 'ven_4d6b635a66496d5f4e4974526b6f77595a66714b76536f4a496843', 'ven_5131757937506d716a5656526b6f7759316265523959354a496843', 'ven_51386f4f4968583076775f526b6f77327a6a56375230614a496843', 'ven_51416f63306f39377a4475526b6f77594a716d65355a6d4a496843', 'ven_51683176714b3744615056526b6f77597862375f6b576f4a496843', 'ven_516e525873374354527751526b6f7759313477732d34394a496843', 'ven_5532317551593261384446526b6f775946505f576a57614a496843', 'ven_554975514d79783467714d526b6f77594e706e4e6b7a414a496843', 'ven_55613477334b4957707751526b6f77595a49654f5632364a496843', 'ven_557a78624d425838544f65526b6f7759316569484d30554a496843', 'ven_5945636445507078654d7a526b6f77594a71514e6c35304a496843', 'ven_594c414b424e7861515470526b6f77327652734f6a54714a496843', 'ven_595736565a6d62787a7330526b6f77326e4272346b774c4a496843', 'ven_595f5f784d463266636a6f526b6f7759424a4272355a4a4a496843', 'ven_5962576e4e726135545f56526b6f775939595a4d3558324a496843', 'ven_596454514639324f565773526b6f77325f525975565a6c4a496843', 'ven_5972624350616238694f57526b6f77595a5a31725930354a496843', 'ven_636849347a37534f62464c526b6f77596434644a7230494a496843', 'ven_673437695f797470675874526b6f7759396534667a58464a496843', 'ven_67344e7669664177774743526b6f77594e767263427a654a496843', 'ven_67375a3630494f3539724b526b6f775952715a367036714a496843', 'ven_6743617a59472d4a564449526b6f77595a76734c6156794a496843', 'ven_674a5830354e5572664339526b6f77326e42436652575f4a496843', 'ven_676a53423161456a363564526b6f773244555733565a364a496843', 'ven_6b3733664d336870475547526b6f7759705a4146477a344a496843', 'ven_6f4b42787a706434525f76526b6f7759424a48384a39414a496843', 'ven_6f705548536a3470353159526b6f7759527168733451624a496843', 'ven_733950504e644550574537526b6f77327a42506e3037684a496843', 'ven_73533764685f6d75566b6d526b6f77594a714f484c57594a496843', 'ven_7366516c31652d4f4e436b526b6f7759314965613652694a496843', 'ven_737a4c6b5376744748712d526b6f77595a7039674a38624a496843', 'ven_7778775545424e486d7075526b6f7759465048596d644f4a496843'], 'Fashion Convenience': ['ven_30504d554d38614b6b6f78526b6f7759786267705963354a496843', 'ven_307063396f374b4b4e6b71526b6f7759564a316c35656e4a496843', 'ven_34787a3570694c6e375964526b6f7759645a30414138594a496843', 'ven_385252516c6f7a32335439526b6f7759782d57657a5f744a496843', 'ven_38645155503361334d3934526b6f7759355956627538384a496843', 'ven_3875714251714574684232526b6f775a78614e3764616c4a496843', 'ven_41434b554a474f30326d2d526b6f77594a6153713854734a496843', 'ven_41546447325f6964534674526b6f775a4673765f6133624a496843', 'ven_415658356c724c57637158526b6f7759355966794556494a496843', 'ven_45566b4479733438494a61526b6f775952704d3242546a4a496843', 'ven_455946676359706d47646e526b6f77595a5f4c735033704a496843', 'ven_456a3266757a4250707a4e526b6f775a524135576738364a496843', 'ven_456e54656a5a6276575936526b6f775a4e2d43744f5f644a496843', 'ven_494d30494477545a4a657a526b6f7759563531734432524a496843', 'ven_495843304f594b6f355130526b6f775978656f435636394a496843', 'ven_495f6e76636f42494a6841526b6f77595650686c735f774a496843', 'ven_496166424b6e594d315673526b6f7759525073506f58434a496843', 'ven_49726b487a6d4b496a5538526b6f77593949365744396f4a496843', 'ven_5131757937506d716a5656526b6f7759316265523959354a496843', 'ven_51416f63306f39377a4475526b6f77594a716d65355a6d4a496843', 'ven_51446447416e773241794f526b6f775970494e52397a654a496843', 'ven_51683176714b3744615056526b6f77597862375f6b576f4a496843', 'ven_517636454b535639515037526b6f775968566f6c767a4a4a496843', 'ven_55613477334b4957707751526b6f77595a49654f5632364a496843', 'ven_5566616f4e337545413945526b6f7759782d54524361674a496843', 'ven_5945636445507078654d7a526b6f77594a71514e6c35304a496843', 'ven_5962576e4e726135545f56526b6f775939595a4d3558324a496843', 'ven_636849347a37534f62464c526b6f77596434644a7230494a496843', 'ven_636a794c346b73704c3170526b6f7759784f53665161574a496843', 'ven_673368364673754d693466526b6f775970756970582d444a496843', 'ven_67375a3630494f3539724b526b6f775952715a367036714a496843', 'ven_67696d56476149435f6965526b6f775a6c5a52445036524a496843', 'ven_6772646250704a68513065526b6f77595a4f62595734794a496843', 'ven_67726a544b332d45634264526b6f77595a5f4c735033704a496843', 'ven_6b51657951327931574d79526b6f7759784f524154524f4a496843', 'ven_6b6d4f656b323831793364526b6f77594a6362353051624a496843', 'ven_6b77466c386b7878434a49526b6f7759745f714274584f4a496843', 'ven_6b7a72724d57625a307367526b6f7759565046364465454a496843', 'ven_6f3367575f457366717473526b6f7759565f577156546e4a496843', 'ven_6f705548536a3470353159526b6f7759527168733451624a496843', 'ven_73306a6956627357544e53526b6f7759784c7750352d514a496843', 'ven_73533764685f6d75566b6d526b6f77594a714f484c57594a496843', 'ven_77452d65676a4430616250526b6f7759782d704b5454704a496843', 'ven_776c426b3172735a6f5455526b6f77595a5f4c735033704a496843'], 'Nature Attractions': ['ven_303749644b67576e694b55526b6f7759685f4a445761324a496843', 'ven_304a6c77747a366c755455526b6f77594a7070575959454a496843', 'ven_3466426a743170534d634c526b6f77594a76706c5363784a496843', 'ven_347a2d78444c59782d4f4f526b6f77594e3534494233744a496843', 'ven_3844456669735664576538526b6f775942716d6c4a5a4b4a496843', 'ven_386953773374434b6b5269526b6f7732547950655a52534a496843', 'ven_4132676164315471633870526b6f775a3138534d6154384a496843', 'ven_41546174395076324a4a4a526b6f77594a4b5a6d53634b4a496843', 'ven_495f727346415163724f64526b6f77325f784f413864794a496843', 'ven_496f786742743433746c6f526b6f773144646a306c39344a496843', 'ven_49724965316452505f3148526b6f77594a35553366315f4a496843', 'ven_497334794b377835486e55526b6f775964356c4b565f4a4a496843', 'ven_4d324566304a52446b6234526b6f77594e5f786c4d33344a496843', 'ven_4d457a4474397179337835526b6f7759704a46752d77734a496843', 'ven_4d6b635a66496d5f4e4974526b6f77595a66714b76536f4a496843', 'ven_516e525873374354527751526b6f7759313477732d34394a496843', 'ven_5532317551593261384446526b6f775946505f576a57614a496843', 'ven_554975514d79783467714d526b6f77594e706e4e6b7a414a496843', 'ven_557a78624d425838544f65526b6f7759316569484d30554a496843', 'ven_594c414b424e7861515470526b6f77327652734f6a54714a496843', 'ven_595736565a6d62787a7330526b6f77326e4272346b774c4a496843', 'ven_595f5f784d463266636a6f526b6f7759424a4272355a4a4a496843', 'ven_596454514639324f565773526b6f77325f525975565a6c4a496843', 'ven_5972624350616238694f57526b6f77595a5a31725930354a496843', 'ven_673437695f797470675874526b6f7759396534667a58464a496843', 'ven_67344e7669664177774743526b6f77594e767263427a654a496843', 'ven_6743617a59472d4a564449526b6f77595a76734c6156794a496843', 'ven_674a5830354e5572664339526b6f77326e42436652575f4a496843', 'ven_6b3733664d336870475547526b6f7759705a4146477a344a496843', 'ven_6f4b42787a706434525f76526b6f7759424a48384a39414a496843', 'ven_733950504e644550574537526b6f77327a42506e3037684a496843', 'ven_7366516c31652d4f4e436b526b6f7759314965613652694a496843', 'ven_737a4c6b5376744748712d526b6f77595a7039674a38624a496843', 'ven_7778775545424e486d7075526b6f7759465048596d644f4a496843'], 'Shopping Center': ['ven_455946676359706d47646e526b6f77595a5f4c735033704a496843', 'ven_45767a5a37493134595157526b6f775964324e424e65734a496843', 'ven_495f6e76636f42494a6841526b6f77595650686c735f774a496843', 'ven_51446447416e773241794f526b6f775970494e52397a654a496843', 'ven_517636454b535639515037526b6f775968566f6c767a4a4a496843', 'ven_67726a544b332d45634264526b6f77595a5f4c735033704a496843', 'ven_6b7a72724d57625a307367526b6f7759565046364465454a496843', 'ven_6f3367575f457366717473526b6f7759565f577156546e4a496843', 'ven_7349707841675455786e57526b6f7759703461757451474a496843', 'ven_776c426b3172735a6f5455526b6f77595a5f4c735033704a496843']}\n"
     ]
    }
   ],
   "source": [
    "today_day_num = datetime.now().weekday()  # 0: Monday, 6: Sunday\n",
    "\n",
    "# A function to check if a venue is open today\n",
    "def is_venue_open_today(venue_id, day_num):\n",
    "    venue_today_info = df_venue_timings.loc[(df_venue_timings['venue_id'] == venue_id) & (df_venue_timings['day'] == day_num)]\n",
    "    return not venue_today_info.empty and venue_today_info['opening_time'].iloc[0] != -1 and venue_today_info['closing_time'].iloc[0] != -1\n",
    "\n",
    "# Update user_venue_per_type_dict\n",
    "for attraction_type, venue_ids in user_venue_per_type_dict.items():\n",
    "    user_venue_per_type_dict[attraction_type] = [venue_id for venue_id in venue_ids if is_venue_open_today(venue_id, today_day_num)]\n",
    "\n",
    "#print(user_venue_per_type_dict)\n"
   ]
  },
  {
   "cell_type": "code",
   "execution_count": 179,
   "id": "79c447c4",
   "metadata": {},
   "outputs": [
    {
     "name": "stdout",
     "output_type": "stream",
     "text": [
      "{'AMERICAN_RESTAURANT': ['ven_30365f61684a68514c7730526b6f775a6c6b7a707255624a496843', 'ven_30714e5a724f6950413148526b6f7759744c354b5331454a496843', 'ven_384a62436f6d5976694364526b6f77595a5968617061724a496843', 'ven_386e695754345a63674c55526b6f775a52572d447461364a496843', 'ven_417239716752736e6c447a526b6f7759745078672d574d4a496843', 'ven_4945542d5a7655334d6a57526b6f7759523172664f56384a496843', 'ven_49617343525a5972794235526b6f775a707135475357484a496843', 'ven_49696f3179734b6a693473526b6f77595249534f6865434a496843', 'ven_4d4f56636f49432d425736526b6f77326a6947344f327a4a496843', 'ven_5158584145756f374a4b76526b6f777a376635445166474a496843', 'ven_517362734b764763584752526b6f775a4a3032463051764a496843', 'ven_5536434b44427779443572526b6f775a5a356d787964624a496843', 'ven_554f563759583653705f73526b6f775a646146374456574a496843', 'ven_555966764a6e4a74677257526b6f77595636792d5257664a496843', 'ven_597a616b6a716649565079526b6f77595a4a63445161384a496843', 'ven_634f4363417644424e616a526b6f775a685179765633524a496843', 'ven_636d5f33545a4f4f65736b526b6f7759743466574258654a496843', 'ven_676d735f5a644d594d4e43526b6f77616c433078735a664a496843', 'ven_677a6b384456717362517a526b6f775a314764555866484a496843', 'ven_6f3970777349416b6b635a526b6f77594a4655377635704a496843', 'ven_7330663377497968657a68526b6f77594e3139724b51304a496843', 'ven_735365637a644a62515946526b6f775a467167495153764a496843', 'ven_775373576f773733303343526b6f775a68634f4c34776c4a496843', 'ven_77667a36446e4432637273526b6f775a742d316366516c4a496843'], 'ITALIAN_RESTAURANT': ['ven_3048674a4764455f76744f526b6f77594a6f5f617658724a496843', 'ven_3068674e6f56796343637a526b6f7759743177664259304a496843', 'ven_3844703267353739533762526b6f775a7052724545786c4a496843', 'ven_4168437230416a45783158526b6f7759526c2d6f5339524a496843', 'ven_416a395131386f65616b51526b6f7759703461425661574a496843', 'ven_4531715754335f314a5337526b6f7759565950466435714a496843', 'ven_454a426f344a7a6c764a74526b6f7759525f767035794b4a496843', 'ven_495374556d36693165436d526b6f775a464558707631774a496843', 'ven_495a76784756397a636c61526b6f77595659624d79624f4a496843', 'ven_4d4e4a7a66346836745a31526b6f77597434434e4455414a496843', 'ven_4d5479484a476c70664144526b6f7759746f423142634f4a496843', 'ven_515f466457386349774574526b6f775a46556e374353444a496843', 'ven_553045716f6975386f7663526b6f775a743263763353354a496843', 'ven_555135764d4d546a5a596c526b6f775970347a47625a5a4a496843', 'ven_593769776f766b664d5845526b6f775a6c4c387937664b4a496843', 'ven_59394d6e4647334b39736f526b6f7759743444707577544a496843', 'ven_63326b76356569306b6c5a526b6f77597870715033666b4a496843', 'ven_6373616b72775a37647977526b6f7759686f6c373258644a496843', 'ven_6766616e713152586e5374526b6f77595634454d5a37714a496843', 'ven_6777326f753853575a3875526b6f7759524643417333374a496843', 'ven_677a584d792d3872515771526b6f7759744977693362484a496843', 'ven_6b4252475f792d6c5a5057526b6f775968653379652d394a496843', 'ven_6b69536e344b337645554e526b6f775a5a5a764a55525f4a496843', 'ven_6b735f44766d736f7a796b526b6f7759563448652d624f4a496843', 'ven_6f61432d6942754d737746526b6f775970344a346851524a496843', 'ven_73373243427a7677647179526b6f77595a56676549666a4a496843', 'ven_736667483138515937774c526b6f775a705a305967565f4a496843']}\n"
     ]
    }
   ],
   "source": [
    "# Update restaurant_zone_dict for restaurants open today\n",
    "for restaurant_type, venue_ids in restaurant_venue_dict.items():\n",
    "    restaurant_venue_dict[restaurant_type] = [venue_id for venue_id in venue_ids if is_venue_open_today(venue_id, today_day_num)]\n",
    "\n",
    "#print(restaurant_venue_dict)\n"
   ]
  },
  {
   "cell_type": "code",
   "execution_count": 180,
   "id": "244cf4cf",
   "metadata": {},
   "outputs": [
    {
     "name": "stdout",
     "output_type": "stream",
     "text": [
      "{'AMERICAN_RESTAURANT': [('ven_30365f61684a68514c7730526b6f775a6c6b7a707255624a496843', 4.4, 18.250591016548462, 9.940236406619386), ('ven_30714e5a724f6950413148526b6f7759744c354b5331454a496843', 4.4, 29.098484848484848, 14.279393939393941), ('ven_384a62436f6d5976694364526b6f77595a5968617061724a496843', 4.5, 26.78787878787879, 13.415151515151516), ('ven_386e695754345a63674c55526b6f775a52572d447461364a496843', 4.5, 7.121212121212121, 5.548484848484849), ('ven_417239716752736e6c447a526b6f7759745078672d574d4a496843', 4.6, 15.5, 8.96), ('ven_4945542d5a7655334d6a57526b6f7759523172664f56384a496843', 4.3, 12.181818181818182, 7.452727272727273), ('ven_49617343525a5972794235526b6f775a707135475357484a496843', 4.4, 28.060606060606062, 13.864242424242427), ('ven_49696f3179734b6a693473526b6f77595249534f6865434a496843', 4.6, 31.742424242424242, 15.456969696969697), ('ven_4d4f56636f49432d425736526b6f77326a6947344f327a4a496843', 4.3, 27.492424242424242, 13.576969696969698), ('ven_5158584145756f374a4b76526b6f777a376635445166474a496843', 3.9, 8.121212121212121, 5.588484848484848), ('ven_517362734b764763584752526b6f775a4a3032463051764a496843', 4.3, 27.272727272727273, 13.48909090909091), ('ven_5536434b44427779443572526b6f775a5a356d787964624a496843', 4.4, 13.909090909090908, 8.203636363636363), ('ven_554f563759583653705f73526b6f775a646146374456574a496843', 4.5, 24.40909090909091, 12.463636363636365), ('ven_555966764a6e4a74677257526b6f77595636792d5257664a496843', 4.2, 21.303030303030305, 11.041212121212121), ('ven_597a616b6a716649565079526b6f77595a4a63445161384a496843', 3.2, 22.492424242424242, 10.916969696969698), ('ven_634f4363417644424e616a526b6f775a685179765633524a496843', 4.3, 22.984848484848484, 11.773939393939393), ('ven_636d5f33545a4f4f65736b526b6f7759743466574258654a496843', 4.2, 15.901515151515152, 8.88060606060606), ('ven_676d735f5a644d594d4e43526b6f77616c433078735a664a496843', 4.4, 10.75, 6.9399999999999995), ('ven_677a6b384456717362517a526b6f775a314764555866484a496843', 4.6, 13.772727272727273, 8.26909090909091), ('ven_6f3970777349416b6b635a526b6f77594a4655377635704a496843', 4.4, 19.757575757575758, 10.543030303030303), ('ven_7330663377497968657a68526b6f77594e3139724b51304a496843', 4.4, 17.431818181818183, 9.612727272727273), ('ven_735365637a644a62515946526b6f775a467167495153764a496843', 4.6, 28.977272727272727, 14.350909090909092), ('ven_775373576f773733303343526b6f775a68634f4c34776c4a496843', 4.3, 17.636363636363637, 9.634545454545455), ('ven_77667a36446e4432637273526b6f775a742d316366516c4a496843', 4.9, 12.469696969696969, 7.927878787878788)], 'ITALIAN_RESTAURANT': [('ven_3048674a4764455f76744f526b6f77594a6f5f617658724a496843', 4.4, 16.689393939393938, 9.315757575757576), ('ven_3068674e6f56796343637a526b6f7759743177664259304a496843', 4.4, 14.098484848484848, 8.27939393939394), ('ven_3844703267353739533762526b6f775a7052724545786c4a496843', 4.3, 17.439393939393938, 9.555757575757575), ('ven_4168437230416a45783158526b6f7759526c2d6f5339524a496843', 4.5, 29.37121212121212, 14.44848484848485), ('ven_416a395131386f65616b51526b6f7759703461425661574a496843', 4.5, 17.181818181818183, 9.572727272727274), ('ven_4531715754335f314a5337526b6f7759565950466435714a496843', 4.6, 12.31060606060606, 7.6842424242424245), ('ven_454a426f344a7a6c764a74526b6f7759525f767035794b4a496843', 4.4, 12.575757575757576, 7.670303030303032), ('ven_495374556d36693165436d526b6f775a464558707631774a496843', 4.6, 19.75, 10.66), ('ven_495a76784756397a636c61526b6f77595659624d79624f4a496843', 4.3, 35.416666666666664, 16.746666666666666), ('ven_4d4e4a7a66346836745a31526b6f77597434434e4455414a496843', 4.5, 10.977272727272727, 7.09090909090909), ('ven_4d5479484a476c70664144526b6f7759746f423142634f4a496843', 4.2, 22.992424242424242, 11.716969696969697), ('ven_515f466457386349774574526b6f775a46556e374353444a496843', 4.7, 12.234848484848484, 7.713939393939395), ('ven_553045716f6975386f7663526b6f775a743263763353354a496843', 4.6, 21.083333333333332, 11.193333333333333), ('ven_555135764d4d546a5a596c526b6f775970347a47625a5a4a496843', 4.3, 16.87878787878788, 9.331515151515152), ('ven_593769776f766b664d5845526b6f775a6c4c387937664b4a496843', 4.9, 8.780303030303031, 6.452121212121213), ('ven_59394d6e4647334b39736f526b6f7759743444707577544a496843', 4.4, 17.939393939393938, 9.815757575757576), ('ven_63326b76356569306b6c5a526b6f77597870715033666b4a496843', 4.4, 20.62121212121212, 10.888484848484849), ('ven_6373616b72775a37647977526b6f7759686f6c373258644a496843', 4.3, 20.856060606060606, 10.922424242424242), ('ven_6766616e713152586e5374526b6f77595634454d5a37714a496843', 4.5, 16.545454545454547, 9.318181818181818), ('ven_6777326f753853575a3875526b6f7759524643417333374a496843', 4.2, 8.113636363636363, 5.765454545454546), ('ven_677a584d792d3872515771526b6f7759744977693362484a496843', 4.3, 18.62121212121212, 10.02848484848485), ('ven_6b4252475f792d6c5a5057526b6f775968653379652d394a496843', 4.5, 15.43939393939394, 8.875757575757575), ('ven_6b69536e344b337645554e526b6f775a5a5a764a55525f4a496843', 4.6, 31.59090909090909, 15.396363636363636), ('ven_6b735f44766d736f7a796b526b6f7759563448652d624f4a496843', 4.4, 16.393939393939394, 9.197575757575759), ('ven_6f61432d6942754d737746526b6f775970344a346851524a496843', 4.5, 20.65909090909091, 10.963636363636363), ('ven_73373243427a7677647179526b6f77595a56676549666a4a496843', 4.4, 22.492424242424242, 11.636969696969699), ('ven_736667483138515937774c526b6f775a705a305967565f4a496843', 4.4, 8.704545454545455, 6.121818181818183)]}\n"
     ]
    }
   ],
   "source": [
    "manipulated_restaurants = {}\n",
    "\n",
    "# Loop through each restaurant type and check for the specified condition\n",
    "for restaurant_type, restaurant_ids in restaurant_venue_dict.items():\n",
    "    valid_restaurants = []\n",
    "    for restaurant_id in restaurant_ids:\n",
    "        restaurant_hash_id = df_venue_restaurant[df_venue_restaurant['original_ven_id'] == restaurant_id]['hash_ven_id']\n",
    "        restaurant_rating = df_venue_restaurant[df_venue_restaurant['original_ven_id'] == restaurant_id]['rating'].item()\n",
    "        restaurant_hash_id = int(restaurant_hash_id)\n",
    "        \n",
    "        df_venue_merged['venue_id'] = df_venue_merged['venue_id'].astype(int)\n",
    "        specific_restaurant_df = df_venue_merged[df_venue_merged['venue_id'] == restaurant_hash_id]\n",
    "        average_busyness = specific_restaurant_df['busyness'].mean() \n",
    "        \n",
    "        weight_rating = 0.6\n",
    "        weight_busyness = 0.4\n",
    "        composite_score = (weight_rating * restaurant_rating) + (weight_busyness * average_busyness)\n",
    "        \n",
    "        valid_restaurants.append((restaurant_id, restaurant_rating, average_busyness, composite_score))\n",
    "    if valid_restaurants:\n",
    "        manipulated_restaurants[restaurant_type] = valid_restaurants\n",
    "\n",
    "#print(manipulated_restaurants)\n"
   ]
  },
  {
   "cell_type": "code",
   "execution_count": 181,
   "id": "11fb87b2",
   "metadata": {},
   "outputs": [],
   "source": [
    "manipulated_venues = {}\n",
    "\n",
    "# Loop through each venue type and check for the specified condition\n",
    "for venue_type, venue_ids in user_venue_per_type_dict.items():\n",
    "    valid_venues = []\n",
    "    for venue_id in venue_ids:\n",
    "        venue_hash_id = df_venue_static.loc[df_venue_static['original_ven_id'] == venue_id]['hash_ven_id']\n",
    "        venue_rating = df_venue_static.loc[df_venue_static['original_ven_id'] == venue_id]['rating'].item()\n",
    "        venue_hash_id = int(venue_hash_id)\n",
    "        df_venue_merged['venue_id'] = df_venue_merged['venue_id'].astype(int)\n",
    "        specific_venue_df = df_venue_merged.loc[df_venue_merged['venue_id'] == venue_hash_id]\n",
    "        average_busyness = specific_venue_df['busyness'].mean() \n",
    "        \n",
    "        weight_rating = 0.6\n",
    "        weight_busyness = 0.4\n",
    "        composite_score = (weight_rating * venue_rating) + (weight_busyness * average_busyness)\n",
    "        \n",
    "        \n",
    "        valid_venues.append((venue_id, venue_rating, average_busyness, composite_score))\n",
    "    if valid_venues:\n",
    "        manipulated_venues[venue_type] = valid_venues\n",
    "\n"
   ]
  },
  {
   "cell_type": "code",
   "execution_count": 182,
   "id": "a800e189",
   "metadata": {},
   "outputs": [
    {
     "name": "stdout",
     "output_type": "stream",
     "text": [
      "Restaurant Type: AMERICAN_RESTAURANT\n",
      "Rank 1: Restaurant ID: ven_49696f3179734b6a693473526b6f77595249534f6865434a496843, Rating: 4.6, Busyness: 31.742424242424242, Score: 15.456969696969697\n",
      "Rank 2: Restaurant ID: ven_735365637a644a62515946526b6f775a467167495153764a496843, Rating: 4.6, Busyness: 28.977272727272727, Score: 14.350909090909092\n",
      "Rank 3: Restaurant ID: ven_30714e5a724f6950413148526b6f7759744c354b5331454a496843, Rating: 4.4, Busyness: 29.098484848484848, Score: 14.279393939393941\n",
      "\n",
      "Restaurant Type: ITALIAN_RESTAURANT\n",
      "Rank 1: Restaurant ID: ven_495a76784756397a636c61526b6f77595659624d79624f4a496843, Rating: 4.3, Busyness: 35.416666666666664, Score: 16.746666666666666\n",
      "Rank 2: Restaurant ID: ven_6b69536e344b337645554e526b6f775a5a5a764a55525f4a496843, Rating: 4.6, Busyness: 31.59090909090909, Score: 15.396363636363636\n",
      "Rank 3: Restaurant ID: ven_4168437230416a45783158526b6f7759526c2d6f5339524a496843, Rating: 4.5, Busyness: 29.37121212121212, Score: 14.44848484848485\n",
      "\n"
     ]
    }
   ],
   "source": [
    "top_3_restaurants = {}\n",
    "\n",
    "# Loop through each restaurant type and its restaurants\n",
    "for restaurant_type, restaurant_data in manipulated_restaurants.items():\n",
    "    # Sort the restaurants based on the composite score (fourth element in the tuple, index 3)\n",
    "    if len(restaurant_data) > 3:\n",
    "        sorted_restaurants = sorted(restaurant_data, key=lambda x: x[3], reverse=True)\n",
    "    \n",
    "        # Keep only the top 3 restaurants for each restaurant type\n",
    "        top_3_restaurants[restaurant_type] = sorted_restaurants[:3]\n",
    "    else:\n",
    "        top_3_restaurants[restaurant_type] = restaurant_data\n",
    "\n",
    "# Display the top 3 restaurants for each restaurant type\n",
    "for restaurant_type, top_restaurants in top_3_restaurants.items():\n",
    "    print(f\"Restaurant Type: {restaurant_type}\")\n",
    "    for rank, (restaurant_id, rating, busyness, score) in enumerate(top_restaurants, start=1):\n",
    "        print(f\"Rank {rank}: Restaurant ID: {restaurant_id}, Rating: {rating}, Busyness: {busyness}, Score: {score}\")\n",
    "    print()\n"
   ]
  },
  {
   "cell_type": "code",
   "execution_count": 183,
   "id": "b83e9ec7",
   "metadata": {},
   "outputs": [
    {
     "name": "stdout",
     "output_type": "stream",
     "text": [
      "Venue Type: Tourist Destination\n",
      "Rank 1: Venue ID: ven_3466483971693253303578526b6f7732765463666330384a496843, Rating: 4.3, Busyness: 44.24242424242424, Score: 20.276969696969697\n",
      "Rank 2: Venue ID: ven_6f705548536a3470353159526b6f7759527168733451624a496843, Rating: 4.1, Busyness: 42.07575757575758, Score: 19.290303030303033\n",
      "Rank 3: Venue ID: ven_6b3733664d336870475547526b6f7759705a4146477a344a496843, Rating: 4.8, Busyness: 40.35606060606061, Score: 19.022424242424243\n",
      "\n",
      "Venue Type: Fashion Convenience\n",
      "Rank 1: Venue ID: ven_6f705548536a3470353159526b6f7759527168733451624a496843, Rating: 4.1, Busyness: 42.07575757575758, Score: 19.290303030303033\n",
      "Rank 2: Venue ID: ven_673368364673754d693466526b6f775970756970582d444a496843, Rating: 4.2, Busyness: 35.371212121212125, Score: 16.66848484848485\n",
      "Rank 3: Venue ID: ven_6772646250704a68513065526b6f77595a4f62595734794a496843, Rating: 4.6, Busyness: 32.803030303030305, Score: 15.881212121212123\n",
      "\n",
      "Venue Type: Nature Attractions\n",
      "Rank 1: Venue ID: ven_6b3733664d336870475547526b6f7759705a4146477a344a496843, Rating: 4.8, Busyness: 40.35606060606061, Score: 19.022424242424243\n",
      "Rank 2: Venue ID: ven_49724965316452505f3148526b6f77594a35553366315f4a496843, Rating: 4.8, Busyness: 24.431818181818183, Score: 12.652727272727272\n",
      "Rank 3: Venue ID: ven_674a5830354e5572664339526b6f77326e42436652575f4a496843, Rating: 4.7, Busyness: 24.068181818181817, Score: 12.447272727272727\n",
      "\n",
      "Venue Type: Shopping Center\n",
      "Rank 1: Venue ID: ven_67726a544b332d45634264526b6f77595a5f4c735033704a496843, Rating: 4.4, Busyness: 32.494089834515364, Score: 15.637635933806147\n",
      "Rank 2: Venue ID: ven_45767a5a37493134595157526b6f775964324e424e65734a496843, Rating: 4.8, Busyness: 26.848484848484848, Score: 13.619393939393941\n",
      "Rank 3: Venue ID: ven_517636454b535639515037526b6f775968566f6c767a4a4a496843, Rating: 4.2, Busyness: 27.40909090909091, Score: 13.483636363636364\n",
      "\n"
     ]
    }
   ],
   "source": [
    "top_3_venues = {}\n",
    "\n",
    "# Loop through each venue type and its venues\n",
    "for venue_type, venue_data in manipulated_venues.items():\n",
    "    # Sort the venues based on the composite score (fourth element in the tuple, index 3)\n",
    "    if len(venue_data) > 3:\n",
    "        sorted_venues = sorted(venue_data, key=lambda x: x[3], reverse=True)\n",
    "    \n",
    "        # Keep only the top 3 venues for each venue type\n",
    "        top_3_venues[venue_type] = sorted_venues[:3]\n",
    "    else:\n",
    "        top_3_venues[venue_type] = venue_data\n",
    "\n",
    "# Display the top 3 venues for each venue type\n",
    "for venue_type, top_venues in top_3_venues.items():\n",
    "    print(f\"Venue Type: {venue_type}\")\n",
    "    for rank, (venue_id, rating, busyness, score) in enumerate(top_venues, start=1):\n",
    "        print(f\"Rank {rank}: Venue ID: {venue_id}, Rating: {rating}, Busyness: {busyness}, Score: {score}\")\n",
    "    print()"
   ]
  }
 ],
 "metadata": {
  "kernelspec": {
   "display_name": "Python 3 (ipykernel)",
   "language": "python",
   "name": "python3"
  },
  "language_info": {
   "codemirror_mode": {
    "name": "ipython",
    "version": 3
   },
   "file_extension": ".py",
   "mimetype": "text/x-python",
   "name": "python",
   "nbconvert_exporter": "python",
   "pygments_lexer": "ipython3",
   "version": "3.10.9"
  },
  "varInspector": {
   "cols": {
    "lenName": 16,
    "lenType": 16,
    "lenVar": 40
   },
   "kernels_config": {
    "python": {
     "delete_cmd_postfix": "",
     "delete_cmd_prefix": "del ",
     "library": "var_list.py",
     "varRefreshCmd": "print(var_dic_list())"
    },
    "r": {
     "delete_cmd_postfix": ") ",
     "delete_cmd_prefix": "rm(",
     "library": "var_list.r",
     "varRefreshCmd": "cat(var_dic_list()) "
    }
   },
   "types_to_exclude": [
    "module",
    "function",
    "builtin_function_or_method",
    "instance",
    "_Feature"
   ],
   "window_display": false
  }
 },
 "nbformat": 4,
 "nbformat_minor": 5
}
